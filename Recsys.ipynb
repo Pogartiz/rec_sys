{
  "nbformat": 4,
  "nbformat_minor": 0,
  "metadata": {
    "colab": {
      "name": "Recsys.ipynb",
      "provenance": [],
      "collapsed_sections": []
    },
    "kernelspec": {
      "name": "python3",
      "display_name": "Python 3"
    },
    "language_info": {
      "name": "python"
    },
    "accelerator": "GPU",
    "gpuClass": "standard"
  },
  "cells": [
    {
      "cell_type": "markdown",
      "source": [
        "## Загрузим нужные библиотеки"
      ],
      "metadata": {
        "id": "qb_ajqWXuguV"
      }
    },
    {
      "cell_type": "code",
      "execution_count": 1,
      "metadata": {
        "id": "MTgpe_1quUDs"
      },
      "outputs": [],
      "source": [
        "import pandas as pd\n",
        "import seaborn as sns\n",
        "import matplotlib.pyplot as plt\n",
        "from sklearn.model_selection import train_test_split\n",
        "from sklearn.ensemble import RandomForestClassifier\n",
        "from sklearn import tree\n",
        "import numpy as np\n",
        "from sklearn.metrics import recall_score, precision_score\n",
        "%matplotlib inline\n",
        "from sklearn.preprocessing import OneHotEncoder"
      ]
    },
    {
      "cell_type": "code",
      "source": [
        "df = pd.read_csv(\"/content/train_dataset_train.csv\")\n",
        "df_test = pd.read_csv('test_dataset_test.csv')"
      ],
      "metadata": {
        "id": "o9N4JbcWudk2"
      },
      "execution_count": 2,
      "outputs": []
    },
    {
      "cell_type": "markdown",
      "source": [
        "## Рассмотрим датасет по ближе"
      ],
      "metadata": {
        "id": "GgCS5B_PutbW"
      }
    },
    {
      "cell_type": "code",
      "source": [
        "df.head(10)"
      ],
      "metadata": {
        "colab": {
          "base_uri": "https://localhost:8080/",
          "height": 456
        },
        "id": "qEvfySMMutBR",
        "outputId": "6fa9d147-d1eb-4314-8c37-b51a0a2c329b"
      },
      "execution_count": 3,
      "outputs": [
        {
          "output_type": "execute_result",
          "data": {
            "text/plain": [
              "       id  age_indicator    month_id  student_id  program_id carts_created_at  \\\n",
              "0   15182           32.0   9/30/2020     6694527        1469        8/26/2020   \n",
              "1   89385            NaN   6/30/2021     6712877        1392         8/5/2020   \n",
              "2   47931            NaN   2/28/2021     6659444         376        6/20/2020   \n",
              "3  279085            1.0  11/30/2021     7151591        1160        4/14/2021   \n",
              "4    7806           30.0  10/31/2020     6705666         952        7/19/2020   \n",
              "5  221530            NaN   4/30/2021     6784019         789       12/20/2020   \n",
              "6   80963            5.0   4/30/2021     6409144         242        2/27/2021   \n",
              "7  220105            NaN   4/30/2021     6314133         998        10/4/2020   \n",
              "8  215541           30.0   3/31/2021     6880163         459        11/6/2020   \n",
              "9   73193           11.0   5/31/2021     6629109         871        6/21/2020   \n",
              "\n",
              "   spent_time_total  spent_time_to_complete_hw  completed_hw  failed_hw  ...  \\\n",
              "0             163.0                        0.0           1.0        0.0  ...   \n",
              "1               NaN                        NaN           NaN        NaN  ...   \n",
              "2               NaN                        NaN           NaN        NaN  ...   \n",
              "3               NaN                        NaN           NaN        NaN  ...   \n",
              "4               NaN                        NaN           NaN        NaN  ...   \n",
              "5               9.0                        NaN           0.0        0.0  ...   \n",
              "6              28.0                        NaN           0.0        0.0  ...   \n",
              "7               NaN                        NaN           NaN        NaN  ...   \n",
              "8               NaN                        NaN           0.0        0.0  ...   \n",
              "9               NaN                        NaN           NaN        NaN  ...   \n",
              "\n",
              "   p_total_calls  p_was_conversations  p_total_duration  support_feedback_avg  \\\n",
              "0            NaN                  NaN               NaN                   4.0   \n",
              "1            NaN                  NaN               NaN                   NaN   \n",
              "2            NaN                  NaN               NaN                   NaN   \n",
              "3            NaN                  NaN               NaN                   NaN   \n",
              "4            NaN                  NaN               NaN                   NaN   \n",
              "5            NaN                  NaN               NaN                   5.0   \n",
              "6            NaN                  NaN               NaN                   NaN   \n",
              "7            NaN                  NaN               NaN                   NaN   \n",
              "8            NaN                  NaN               NaN                   5.0   \n",
              "9            NaN                  NaN               NaN                   NaN   \n",
              "\n",
              "   feedback_avg_d1  feedback_avg_d2  feedback_avg_d3  feedback_avg_d4  \\\n",
              "0              5.0              NaN              NaN              NaN   \n",
              "1              NaN              NaN              NaN              NaN   \n",
              "2              NaN              NaN              NaN              NaN   \n",
              "3              NaN              NaN              NaN              NaN   \n",
              "4              5.0              NaN              NaN              NaN   \n",
              "5              NaN              NaN              NaN              5.0   \n",
              "6              NaN              NaN         4.566105              NaN   \n",
              "7              NaN              4.0              NaN              NaN   \n",
              "8              NaN              NaN         5.000000              NaN   \n",
              "9              NaN              NaN              NaN              NaN   \n",
              "\n",
              "   feedback_avg_d5  target  \n",
              "0              NaN       0  \n",
              "1              NaN       0  \n",
              "2              NaN       0  \n",
              "3              NaN       0  \n",
              "4              NaN       0  \n",
              "5              NaN       0  \n",
              "6              NaN       0  \n",
              "7              NaN       0  \n",
              "8              NaN       3  \n",
              "9              NaN       0  \n",
              "\n",
              "[10 rows x 59 columns]"
            ],
            "text/html": [
              "\n",
              "  <div id=\"df-8b4673df-0a41-4984-b87a-e95c6469e6c1\">\n",
              "    <div class=\"colab-df-container\">\n",
              "      <div>\n",
              "<style scoped>\n",
              "    .dataframe tbody tr th:only-of-type {\n",
              "        vertical-align: middle;\n",
              "    }\n",
              "\n",
              "    .dataframe tbody tr th {\n",
              "        vertical-align: top;\n",
              "    }\n",
              "\n",
              "    .dataframe thead th {\n",
              "        text-align: right;\n",
              "    }\n",
              "</style>\n",
              "<table border=\"1\" class=\"dataframe\">\n",
              "  <thead>\n",
              "    <tr style=\"text-align: right;\">\n",
              "      <th></th>\n",
              "      <th>id</th>\n",
              "      <th>age_indicator</th>\n",
              "      <th>month_id</th>\n",
              "      <th>student_id</th>\n",
              "      <th>program_id</th>\n",
              "      <th>carts_created_at</th>\n",
              "      <th>spent_time_total</th>\n",
              "      <th>spent_time_to_complete_hw</th>\n",
              "      <th>completed_hw</th>\n",
              "      <th>failed_hw</th>\n",
              "      <th>...</th>\n",
              "      <th>p_total_calls</th>\n",
              "      <th>p_was_conversations</th>\n",
              "      <th>p_total_duration</th>\n",
              "      <th>support_feedback_avg</th>\n",
              "      <th>feedback_avg_d1</th>\n",
              "      <th>feedback_avg_d2</th>\n",
              "      <th>feedback_avg_d3</th>\n",
              "      <th>feedback_avg_d4</th>\n",
              "      <th>feedback_avg_d5</th>\n",
              "      <th>target</th>\n",
              "    </tr>\n",
              "  </thead>\n",
              "  <tbody>\n",
              "    <tr>\n",
              "      <th>0</th>\n",
              "      <td>15182</td>\n",
              "      <td>32.0</td>\n",
              "      <td>9/30/2020</td>\n",
              "      <td>6694527</td>\n",
              "      <td>1469</td>\n",
              "      <td>8/26/2020</td>\n",
              "      <td>163.0</td>\n",
              "      <td>0.0</td>\n",
              "      <td>1.0</td>\n",
              "      <td>0.0</td>\n",
              "      <td>...</td>\n",
              "      <td>NaN</td>\n",
              "      <td>NaN</td>\n",
              "      <td>NaN</td>\n",
              "      <td>4.0</td>\n",
              "      <td>5.0</td>\n",
              "      <td>NaN</td>\n",
              "      <td>NaN</td>\n",
              "      <td>NaN</td>\n",
              "      <td>NaN</td>\n",
              "      <td>0</td>\n",
              "    </tr>\n",
              "    <tr>\n",
              "      <th>1</th>\n",
              "      <td>89385</td>\n",
              "      <td>NaN</td>\n",
              "      <td>6/30/2021</td>\n",
              "      <td>6712877</td>\n",
              "      <td>1392</td>\n",
              "      <td>8/5/2020</td>\n",
              "      <td>NaN</td>\n",
              "      <td>NaN</td>\n",
              "      <td>NaN</td>\n",
              "      <td>NaN</td>\n",
              "      <td>...</td>\n",
              "      <td>NaN</td>\n",
              "      <td>NaN</td>\n",
              "      <td>NaN</td>\n",
              "      <td>NaN</td>\n",
              "      <td>NaN</td>\n",
              "      <td>NaN</td>\n",
              "      <td>NaN</td>\n",
              "      <td>NaN</td>\n",
              "      <td>NaN</td>\n",
              "      <td>0</td>\n",
              "    </tr>\n",
              "    <tr>\n",
              "      <th>2</th>\n",
              "      <td>47931</td>\n",
              "      <td>NaN</td>\n",
              "      <td>2/28/2021</td>\n",
              "      <td>6659444</td>\n",
              "      <td>376</td>\n",
              "      <td>6/20/2020</td>\n",
              "      <td>NaN</td>\n",
              "      <td>NaN</td>\n",
              "      <td>NaN</td>\n",
              "      <td>NaN</td>\n",
              "      <td>...</td>\n",
              "      <td>NaN</td>\n",
              "      <td>NaN</td>\n",
              "      <td>NaN</td>\n",
              "      <td>NaN</td>\n",
              "      <td>NaN</td>\n",
              "      <td>NaN</td>\n",
              "      <td>NaN</td>\n",
              "      <td>NaN</td>\n",
              "      <td>NaN</td>\n",
              "      <td>0</td>\n",
              "    </tr>\n",
              "    <tr>\n",
              "      <th>3</th>\n",
              "      <td>279085</td>\n",
              "      <td>1.0</td>\n",
              "      <td>11/30/2021</td>\n",
              "      <td>7151591</td>\n",
              "      <td>1160</td>\n",
              "      <td>4/14/2021</td>\n",
              "      <td>NaN</td>\n",
              "      <td>NaN</td>\n",
              "      <td>NaN</td>\n",
              "      <td>NaN</td>\n",
              "      <td>...</td>\n",
              "      <td>NaN</td>\n",
              "      <td>NaN</td>\n",
              "      <td>NaN</td>\n",
              "      <td>NaN</td>\n",
              "      <td>NaN</td>\n",
              "      <td>NaN</td>\n",
              "      <td>NaN</td>\n",
              "      <td>NaN</td>\n",
              "      <td>NaN</td>\n",
              "      <td>0</td>\n",
              "    </tr>\n",
              "    <tr>\n",
              "      <th>4</th>\n",
              "      <td>7806</td>\n",
              "      <td>30.0</td>\n",
              "      <td>10/31/2020</td>\n",
              "      <td>6705666</td>\n",
              "      <td>952</td>\n",
              "      <td>7/19/2020</td>\n",
              "      <td>NaN</td>\n",
              "      <td>NaN</td>\n",
              "      <td>NaN</td>\n",
              "      <td>NaN</td>\n",
              "      <td>...</td>\n",
              "      <td>NaN</td>\n",
              "      <td>NaN</td>\n",
              "      <td>NaN</td>\n",
              "      <td>NaN</td>\n",
              "      <td>5.0</td>\n",
              "      <td>NaN</td>\n",
              "      <td>NaN</td>\n",
              "      <td>NaN</td>\n",
              "      <td>NaN</td>\n",
              "      <td>0</td>\n",
              "    </tr>\n",
              "    <tr>\n",
              "      <th>5</th>\n",
              "      <td>221530</td>\n",
              "      <td>NaN</td>\n",
              "      <td>4/30/2021</td>\n",
              "      <td>6784019</td>\n",
              "      <td>789</td>\n",
              "      <td>12/20/2020</td>\n",
              "      <td>9.0</td>\n",
              "      <td>NaN</td>\n",
              "      <td>0.0</td>\n",
              "      <td>0.0</td>\n",
              "      <td>...</td>\n",
              "      <td>NaN</td>\n",
              "      <td>NaN</td>\n",
              "      <td>NaN</td>\n",
              "      <td>5.0</td>\n",
              "      <td>NaN</td>\n",
              "      <td>NaN</td>\n",
              "      <td>NaN</td>\n",
              "      <td>5.0</td>\n",
              "      <td>NaN</td>\n",
              "      <td>0</td>\n",
              "    </tr>\n",
              "    <tr>\n",
              "      <th>6</th>\n",
              "      <td>80963</td>\n",
              "      <td>5.0</td>\n",
              "      <td>4/30/2021</td>\n",
              "      <td>6409144</td>\n",
              "      <td>242</td>\n",
              "      <td>2/27/2021</td>\n",
              "      <td>28.0</td>\n",
              "      <td>NaN</td>\n",
              "      <td>0.0</td>\n",
              "      <td>0.0</td>\n",
              "      <td>...</td>\n",
              "      <td>NaN</td>\n",
              "      <td>NaN</td>\n",
              "      <td>NaN</td>\n",
              "      <td>NaN</td>\n",
              "      <td>NaN</td>\n",
              "      <td>NaN</td>\n",
              "      <td>4.566105</td>\n",
              "      <td>NaN</td>\n",
              "      <td>NaN</td>\n",
              "      <td>0</td>\n",
              "    </tr>\n",
              "    <tr>\n",
              "      <th>7</th>\n",
              "      <td>220105</td>\n",
              "      <td>NaN</td>\n",
              "      <td>4/30/2021</td>\n",
              "      <td>6314133</td>\n",
              "      <td>998</td>\n",
              "      <td>10/4/2020</td>\n",
              "      <td>NaN</td>\n",
              "      <td>NaN</td>\n",
              "      <td>NaN</td>\n",
              "      <td>NaN</td>\n",
              "      <td>...</td>\n",
              "      <td>NaN</td>\n",
              "      <td>NaN</td>\n",
              "      <td>NaN</td>\n",
              "      <td>NaN</td>\n",
              "      <td>NaN</td>\n",
              "      <td>4.0</td>\n",
              "      <td>NaN</td>\n",
              "      <td>NaN</td>\n",
              "      <td>NaN</td>\n",
              "      <td>0</td>\n",
              "    </tr>\n",
              "    <tr>\n",
              "      <th>8</th>\n",
              "      <td>215541</td>\n",
              "      <td>30.0</td>\n",
              "      <td>3/31/2021</td>\n",
              "      <td>6880163</td>\n",
              "      <td>459</td>\n",
              "      <td>11/6/2020</td>\n",
              "      <td>NaN</td>\n",
              "      <td>NaN</td>\n",
              "      <td>0.0</td>\n",
              "      <td>0.0</td>\n",
              "      <td>...</td>\n",
              "      <td>NaN</td>\n",
              "      <td>NaN</td>\n",
              "      <td>NaN</td>\n",
              "      <td>5.0</td>\n",
              "      <td>NaN</td>\n",
              "      <td>NaN</td>\n",
              "      <td>5.000000</td>\n",
              "      <td>NaN</td>\n",
              "      <td>NaN</td>\n",
              "      <td>3</td>\n",
              "    </tr>\n",
              "    <tr>\n",
              "      <th>9</th>\n",
              "      <td>73193</td>\n",
              "      <td>11.0</td>\n",
              "      <td>5/31/2021</td>\n",
              "      <td>6629109</td>\n",
              "      <td>871</td>\n",
              "      <td>6/21/2020</td>\n",
              "      <td>NaN</td>\n",
              "      <td>NaN</td>\n",
              "      <td>NaN</td>\n",
              "      <td>NaN</td>\n",
              "      <td>...</td>\n",
              "      <td>NaN</td>\n",
              "      <td>NaN</td>\n",
              "      <td>NaN</td>\n",
              "      <td>NaN</td>\n",
              "      <td>NaN</td>\n",
              "      <td>NaN</td>\n",
              "      <td>NaN</td>\n",
              "      <td>NaN</td>\n",
              "      <td>NaN</td>\n",
              "      <td>0</td>\n",
              "    </tr>\n",
              "  </tbody>\n",
              "</table>\n",
              "<p>10 rows × 59 columns</p>\n",
              "</div>\n",
              "      <button class=\"colab-df-convert\" onclick=\"convertToInteractive('df-8b4673df-0a41-4984-b87a-e95c6469e6c1')\"\n",
              "              title=\"Convert this dataframe to an interactive table.\"\n",
              "              style=\"display:none;\">\n",
              "        \n",
              "  <svg xmlns=\"http://www.w3.org/2000/svg\" height=\"24px\"viewBox=\"0 0 24 24\"\n",
              "       width=\"24px\">\n",
              "    <path d=\"M0 0h24v24H0V0z\" fill=\"none\"/>\n",
              "    <path d=\"M18.56 5.44l.94 2.06.94-2.06 2.06-.94-2.06-.94-.94-2.06-.94 2.06-2.06.94zm-11 1L8.5 8.5l.94-2.06 2.06-.94-2.06-.94L8.5 2.5l-.94 2.06-2.06.94zm10 10l.94 2.06.94-2.06 2.06-.94-2.06-.94-.94-2.06-.94 2.06-2.06.94z\"/><path d=\"M17.41 7.96l-1.37-1.37c-.4-.4-.92-.59-1.43-.59-.52 0-1.04.2-1.43.59L10.3 9.45l-7.72 7.72c-.78.78-.78 2.05 0 2.83L4 21.41c.39.39.9.59 1.41.59.51 0 1.02-.2 1.41-.59l7.78-7.78 2.81-2.81c.8-.78.8-2.07 0-2.86zM5.41 20L4 18.59l7.72-7.72 1.47 1.35L5.41 20z\"/>\n",
              "  </svg>\n",
              "      </button>\n",
              "      \n",
              "  <style>\n",
              "    .colab-df-container {\n",
              "      display:flex;\n",
              "      flex-wrap:wrap;\n",
              "      gap: 12px;\n",
              "    }\n",
              "\n",
              "    .colab-df-convert {\n",
              "      background-color: #E8F0FE;\n",
              "      border: none;\n",
              "      border-radius: 50%;\n",
              "      cursor: pointer;\n",
              "      display: none;\n",
              "      fill: #1967D2;\n",
              "      height: 32px;\n",
              "      padding: 0 0 0 0;\n",
              "      width: 32px;\n",
              "    }\n",
              "\n",
              "    .colab-df-convert:hover {\n",
              "      background-color: #E2EBFA;\n",
              "      box-shadow: 0px 1px 2px rgba(60, 64, 67, 0.3), 0px 1px 3px 1px rgba(60, 64, 67, 0.15);\n",
              "      fill: #174EA6;\n",
              "    }\n",
              "\n",
              "    [theme=dark] .colab-df-convert {\n",
              "      background-color: #3B4455;\n",
              "      fill: #D2E3FC;\n",
              "    }\n",
              "\n",
              "    [theme=dark] .colab-df-convert:hover {\n",
              "      background-color: #434B5C;\n",
              "      box-shadow: 0px 1px 3px 1px rgba(0, 0, 0, 0.15);\n",
              "      filter: drop-shadow(0px 1px 2px rgba(0, 0, 0, 0.3));\n",
              "      fill: #FFFFFF;\n",
              "    }\n",
              "  </style>\n",
              "\n",
              "      <script>\n",
              "        const buttonEl =\n",
              "          document.querySelector('#df-8b4673df-0a41-4984-b87a-e95c6469e6c1 button.colab-df-convert');\n",
              "        buttonEl.style.display =\n",
              "          google.colab.kernel.accessAllowed ? 'block' : 'none';\n",
              "\n",
              "        async function convertToInteractive(key) {\n",
              "          const element = document.querySelector('#df-8b4673df-0a41-4984-b87a-e95c6469e6c1');\n",
              "          const dataTable =\n",
              "            await google.colab.kernel.invokeFunction('convertToInteractive',\n",
              "                                                     [key], {});\n",
              "          if (!dataTable) return;\n",
              "\n",
              "          const docLinkHtml = 'Like what you see? Visit the ' +\n",
              "            '<a target=\"_blank\" href=https://colab.research.google.com/notebooks/data_table.ipynb>data table notebook</a>'\n",
              "            + ' to learn more about interactive tables.';\n",
              "          element.innerHTML = '';\n",
              "          dataTable['output_type'] = 'display_data';\n",
              "          await google.colab.output.renderOutput(dataTable, element);\n",
              "          const docLink = document.createElement('div');\n",
              "          docLink.innerHTML = docLinkHtml;\n",
              "          element.appendChild(docLink);\n",
              "        }\n",
              "      </script>\n",
              "    </div>\n",
              "  </div>\n",
              "  "
            ]
          },
          "metadata": {},
          "execution_count": 3
        }
      ]
    },
    {
      "cell_type": "code",
      "source": [
        "df.shape"
      ],
      "metadata": {
        "colab": {
          "base_uri": "https://localhost:8080/"
        },
        "id": "DfQqkXCOueeM",
        "outputId": "7cc22fcf-8642-4ab6-d1d7-e3e8e57b93a8"
      },
      "execution_count": 4,
      "outputs": [
        {
          "output_type": "execute_result",
          "data": {
            "text/plain": [
              "(200000, 59)"
            ]
          },
          "metadata": {},
          "execution_count": 4
        }
      ]
    },
    {
      "cell_type": "code",
      "source": [
        "df.info()"
      ],
      "metadata": {
        "colab": {
          "base_uri": "https://localhost:8080/"
        },
        "id": "NUHy7c-tuegn",
        "outputId": "145faf52-c30d-4e11-96db-ed860d6a11ca"
      },
      "execution_count": 5,
      "outputs": [
        {
          "output_type": "stream",
          "name": "stdout",
          "text": [
            "<class 'pandas.core.frame.DataFrame'>\n",
            "RangeIndex: 200000 entries, 0 to 199999\n",
            "Data columns (total 59 columns):\n",
            " #   Column                     Non-Null Count   Dtype  \n",
            "---  ------                     --------------   -----  \n",
            " 0   id                         200000 non-null  int64  \n",
            " 1   age_indicator              159123 non-null  float64\n",
            " 2   month_id                   200000 non-null  object \n",
            " 3   student_id                 200000 non-null  int64  \n",
            " 4   program_id                 200000 non-null  int64  \n",
            " 5   carts_created_at           200000 non-null  object \n",
            " 6   spent_time_total           86309 non-null   float64\n",
            " 7   spent_time_to_complete_hw  42467 non-null   float64\n",
            " 8   completed_hw               97599 non-null   float64\n",
            " 9   failed_hw                  97599 non-null   float64\n",
            " 10  reworked_hw                97599 non-null   float64\n",
            " 11  interacted_hw              97599 non-null   float64\n",
            " 12  avg_hw_mark                44496 non-null   float64\n",
            " 13  test_with_good_mark        97599 non-null   float64\n",
            " 14  test_with_great_mark       97599 non-null   float64\n",
            " 15  webinars                   97599 non-null   float64\n",
            " 16  avg_quiz_result            16259 non-null   float64\n",
            " 17  notes                      97599 non-null   float64\n",
            " 18  hw_leader                  97599 non-null   float64\n",
            " 19  lessons                    97599 non-null   float64\n",
            " 20  activity                   97599 non-null   float64\n",
            " 21  bought_d1                  200000 non-null  int64  \n",
            " 22  bought_d2                  200000 non-null  int64  \n",
            " 23  bought_d3                  200000 non-null  int64  \n",
            " 24  bought_d4                  200000 non-null  int64  \n",
            " 25  bought_d5                  200000 non-null  int64  \n",
            " 26  bought_avg_duration        10359 non-null   float64\n",
            " 27  payment_type               200000 non-null  int64  \n",
            " 28  promo                      200000 non-null  object \n",
            " 29  price                      200000 non-null  float64\n",
            " 30  communication_type         198595 non-null  object \n",
            " 31  auto_payment               200000 non-null  int64  \n",
            " 32  ABC                        200000 non-null  object \n",
            " 33  city                       13592 non-null   object \n",
            " 34  country                    12944 non-null   object \n",
            " 35  gender                     199940 non-null  float64\n",
            " 36  speed_recall               21880 non-null   float64\n",
            " 37  os                         77374 non-null   object \n",
            " 38  browser                    77374 non-null   object \n",
            " 39  platform                   77361 non-null   object \n",
            " 40  m_avg_talk_duration        51537 non-null   float64\n",
            " 41  m_avg_duration             45764 non-null   float64\n",
            " 42  m_missed_calls             51537 non-null   float64\n",
            " 43  m_total_calls              51537 non-null   float64\n",
            " 44  m_was_conversations        51537 non-null   float64\n",
            " 45  m_total_duration           51537 non-null   float64\n",
            " 46  p_avg_talk_duration        16453 non-null   float64\n",
            " 47  p_avg_duration             13488 non-null   float64\n",
            " 48  p_missed_calls             16453 non-null   float64\n",
            " 49  p_total_calls              16453 non-null   float64\n",
            " 50  p_was_conversations        16453 non-null   float64\n",
            " 51  p_total_duration           16453 non-null   float64\n",
            " 52  support_feedback_avg       37557 non-null   float64\n",
            " 53  feedback_avg_d1            48496 non-null   float64\n",
            " 54  feedback_avg_d2            14805 non-null   float64\n",
            " 55  feedback_avg_d3            17778 non-null   float64\n",
            " 56  feedback_avg_d4            25076 non-null   float64\n",
            " 57  feedback_avg_d5            15733 non-null   float64\n",
            " 58  target                     200000 non-null  int64  \n",
            "dtypes: float64(38), int64(11), object(10)\n",
            "memory usage: 90.0+ MB\n"
          ]
        }
      ]
    },
    {
      "cell_type": "markdown",
      "source": [
        "Посмотрим на уникальные значения следующих категориальных данных:"
      ],
      "metadata": {
        "id": "x8M7sDS2QKzz"
      }
    },
    {
      "cell_type": "code",
      "source": [
        "print(df['promo'].unique())\n",
        "print(df['os'].unique())\n",
        "print(df['browser'].unique())\n",
        "print(df['platform'].unique())\n",
        "print(df['payment_type'].unique())\n",
        "print(df['communication_type'].unique())"
      ],
      "metadata": {
        "colab": {
          "base_uri": "https://localhost:8080/"
        },
        "id": "XEExZwMbFy1V",
        "outputId": "d83d995c-50a2-4eca-c1f1-2fe01b2f50ab"
      },
      "execution_count": 6,
      "outputs": [
        {
          "output_type": "stream",
          "name": "stdout",
          "text": [
            "['+' '-']\n",
            "[nan 'Windows' 'Mac OS X' 'iOS' 'Android' 'Linux' 'Ubuntu' 'Chrome OS'\n",
            " 'Fedora']\n",
            "[nan 'Chrome' 'Opera' 'Yandex Browser' 'Mobile Safari' 'Instagram'\n",
            " 'Chrome Mobile' 'Safari' 'Edge' 'Google' 'Firefox' 'Chrome Mobile iOS'\n",
            " 'Samsung Internet' 'MiuiBrowser' 'Facebook' 'Opera Mobile'\n",
            " 'Chrome Mobile WebView' 'HeadlessChrome' 'YandexSearch' 'Firefox Mobile'\n",
            " 'Mobile Safari UI/WKWebView' 'Chromium' 'UC Browser' 'Edge Mobile'\n",
            " 'Firefox iOS' 'Iron' 'Android']\n",
            "[nan 'pc' 'mobile' 'tablet']\n",
            "[1 2]\n",
            "['phone' 'order' 'web' nan]\n"
          ]
        }
      ]
    },
    {
      "cell_type": "code",
      "source": [
        "print(df_test['promo'].unique())\n",
        "print(df_test['os'].unique())\n",
        "print(df_test['browser'].unique())\n",
        "print(df_test['platform'].unique())\n",
        "print(df_test['payment_type'].unique())\n",
        "print(df_test['communication_type'].unique())"
      ],
      "metadata": {
        "colab": {
          "base_uri": "https://localhost:8080/"
        },
        "id": "tFHXacqWbYUa",
        "outputId": "cf67624b-25d9-4b43-970b-d77fd00b3390"
      },
      "execution_count": 7,
      "outputs": [
        {
          "output_type": "stream",
          "name": "stdout",
          "text": [
            "['-' '+']\n",
            "['Windows' 'iOS' 'Android' nan 'Mac OS X' 'Chrome OS' 'Linux' 'Ubuntu'\n",
            " 'Fedora']\n",
            "['Chrome' 'Instagram' 'Facebook' 'Chrome Mobile' nan 'Mobile Safari'\n",
            " 'Firefox' 'Safari' 'Yandex Browser' 'MiuiBrowser' 'Opera'\n",
            " 'Firefox Mobile' 'Chrome Mobile iOS' 'Edge' 'Edge Mobile'\n",
            " 'Samsung Internet' 'Opera Mobile' 'Chrome Mobile WebView' 'Google'\n",
            " 'YandexSearch' 'Iron' 'HeadlessChrome' 'Chromium' 'Firefox iOS'\n",
            " 'Mobile Safari UI/WKWebView' 'Pale Moon' 'UC Browser' 'Android']\n",
            "['pc' 'mobile' nan 'tablet']\n",
            "[1 2]\n",
            "['order' 'web' 'phone' nan]\n"
          ]
        }
      ]
    },
    {
      "cell_type": "markdown",
      "source": [
        "Можно заметить, что в тестовом датасете в столбце 'browser' есть значение, которое не встречается в обучающей выборке - это 'Pale Moon'. В последствии удалим этот столбец."
      ],
      "metadata": {
        "id": "b1d4_1iFQSnN"
      }
    },
    {
      "cell_type": "markdown",
      "source": [
        "Заполним значения возраста медианным значением:"
      ],
      "metadata": {
        "id": "OcOPmDvMJD1z"
      }
    },
    {
      "cell_type": "code",
      "source": [
        "df['age_indicator'].fillna(df['age_indicator'].median(), inplace=True)"
      ],
      "metadata": {
        "id": "8f-7TIZiHyz9"
      },
      "execution_count": 8,
      "outputs": []
    },
    {
      "cell_type": "code",
      "source": [
        "df_test['age_indicator'].fillna(df['age_indicator'].median(), inplace=True)"
      ],
      "metadata": {
        "id": "N28LlRnWXDIe"
      },
      "execution_count": 9,
      "outputs": []
    },
    {
      "cell_type": "code",
      "source": [
        "df_test['age_indicator']"
      ],
      "metadata": {
        "colab": {
          "base_uri": "https://localhost:8080/"
        },
        "id": "wz4nfxl6IaBg",
        "outputId": "681f5bb1-f793-44a4-9c69-29762e71b8f5"
      },
      "execution_count": 10,
      "outputs": [
        {
          "output_type": "execute_result",
          "data": {
            "text/plain": [
              "0        20.0\n",
              "1        27.0\n",
              "2         9.0\n",
              "3        20.0\n",
              "4         7.0\n",
              "         ... \n",
              "84992    15.0\n",
              "84993    27.0\n",
              "84994    37.0\n",
              "84995    14.0\n",
              "84996    17.0\n",
              "Name: age_indicator, Length: 84997, dtype: float64"
            ]
          },
          "metadata": {},
          "execution_count": 10
        }
      ]
    },
    {
      "cell_type": "code",
      "source": [
        "df['age_indicator']"
      ],
      "metadata": {
        "colab": {
          "base_uri": "https://localhost:8080/"
        },
        "id": "AWYN7nPBIXvx",
        "outputId": "ad2bb8e9-699b-4969-de2d-8f9a00792658"
      },
      "execution_count": 11,
      "outputs": [
        {
          "output_type": "execute_result",
          "data": {
            "text/plain": [
              "0         32.0\n",
              "1         20.0\n",
              "2         20.0\n",
              "3          1.0\n",
              "4         30.0\n",
              "          ... \n",
              "199995    27.0\n",
              "199996    20.0\n",
              "199997    17.0\n",
              "199998    20.0\n",
              "199999    18.0\n",
              "Name: age_indicator, Length: 200000, dtype: float64"
            ]
          },
          "metadata": {},
          "execution_count": 11
        }
      ]
    },
    {
      "cell_type": "markdown",
      "source": [
        "Заменим NaN значения текстовых переменных на \"None\" для того, чтобы их могла интерпретировать модель."
      ],
      "metadata": {
        "id": "YZVtUkQ-Q-GP"
      }
    },
    {
      "cell_type": "code",
      "source": [
        "df['os'].fillna('None', inplace=True)\n",
        "df['platform'].fillna('None', inplace=True)\n",
        "df['communication_type'].fillna('None', inplace=True)"
      ],
      "metadata": {
        "id": "GTiaOLr7Jgm6"
      },
      "execution_count": 12,
      "outputs": []
    },
    {
      "cell_type": "code",
      "source": [
        "df_test['os'].fillna('None', inplace=True)\n",
        "df_test['platform'].fillna('None', inplace=True)\n",
        "df_test['communication_type'].fillna('None', inplace=True)"
      ],
      "metadata": {
        "id": "AQYJUEOJXVKq"
      },
      "execution_count": 13,
      "outputs": []
    },
    {
      "cell_type": "code",
      "source": [
        "df[['os', 'browser', 'platform', 'communication_type']]"
      ],
      "metadata": {
        "colab": {
          "base_uri": "https://localhost:8080/",
          "height": 424
        },
        "id": "dpcW8RrNKFQT",
        "outputId": "09c03b1e-aeaf-42b5-ab8b-4ed501d860cb"
      },
      "execution_count": 14,
      "outputs": [
        {
          "output_type": "execute_result",
          "data": {
            "text/plain": [
              "              os           browser platform communication_type\n",
              "0           None               NaN     None              phone\n",
              "1           None               NaN     None              order\n",
              "2           None               NaN     None                web\n",
              "3        Windows            Chrome       pc              order\n",
              "4           None               NaN     None              order\n",
              "...          ...               ...      ...                ...\n",
              "199995      None               NaN     None              order\n",
              "199996       iOS     Mobile Safari   mobile              order\n",
              "199997      None               NaN     None                web\n",
              "199998   Android  Samsung Internet   mobile              order\n",
              "199999  Mac OS X            Safari       pc              order\n",
              "\n",
              "[200000 rows x 4 columns]"
            ],
            "text/html": [
              "\n",
              "  <div id=\"df-fd4bf3da-9985-47c0-aeae-23a535769a59\">\n",
              "    <div class=\"colab-df-container\">\n",
              "      <div>\n",
              "<style scoped>\n",
              "    .dataframe tbody tr th:only-of-type {\n",
              "        vertical-align: middle;\n",
              "    }\n",
              "\n",
              "    .dataframe tbody tr th {\n",
              "        vertical-align: top;\n",
              "    }\n",
              "\n",
              "    .dataframe thead th {\n",
              "        text-align: right;\n",
              "    }\n",
              "</style>\n",
              "<table border=\"1\" class=\"dataframe\">\n",
              "  <thead>\n",
              "    <tr style=\"text-align: right;\">\n",
              "      <th></th>\n",
              "      <th>os</th>\n",
              "      <th>browser</th>\n",
              "      <th>platform</th>\n",
              "      <th>communication_type</th>\n",
              "    </tr>\n",
              "  </thead>\n",
              "  <tbody>\n",
              "    <tr>\n",
              "      <th>0</th>\n",
              "      <td>None</td>\n",
              "      <td>NaN</td>\n",
              "      <td>None</td>\n",
              "      <td>phone</td>\n",
              "    </tr>\n",
              "    <tr>\n",
              "      <th>1</th>\n",
              "      <td>None</td>\n",
              "      <td>NaN</td>\n",
              "      <td>None</td>\n",
              "      <td>order</td>\n",
              "    </tr>\n",
              "    <tr>\n",
              "      <th>2</th>\n",
              "      <td>None</td>\n",
              "      <td>NaN</td>\n",
              "      <td>None</td>\n",
              "      <td>web</td>\n",
              "    </tr>\n",
              "    <tr>\n",
              "      <th>3</th>\n",
              "      <td>Windows</td>\n",
              "      <td>Chrome</td>\n",
              "      <td>pc</td>\n",
              "      <td>order</td>\n",
              "    </tr>\n",
              "    <tr>\n",
              "      <th>4</th>\n",
              "      <td>None</td>\n",
              "      <td>NaN</td>\n",
              "      <td>None</td>\n",
              "      <td>order</td>\n",
              "    </tr>\n",
              "    <tr>\n",
              "      <th>...</th>\n",
              "      <td>...</td>\n",
              "      <td>...</td>\n",
              "      <td>...</td>\n",
              "      <td>...</td>\n",
              "    </tr>\n",
              "    <tr>\n",
              "      <th>199995</th>\n",
              "      <td>None</td>\n",
              "      <td>NaN</td>\n",
              "      <td>None</td>\n",
              "      <td>order</td>\n",
              "    </tr>\n",
              "    <tr>\n",
              "      <th>199996</th>\n",
              "      <td>iOS</td>\n",
              "      <td>Mobile Safari</td>\n",
              "      <td>mobile</td>\n",
              "      <td>order</td>\n",
              "    </tr>\n",
              "    <tr>\n",
              "      <th>199997</th>\n",
              "      <td>None</td>\n",
              "      <td>NaN</td>\n",
              "      <td>None</td>\n",
              "      <td>web</td>\n",
              "    </tr>\n",
              "    <tr>\n",
              "      <th>199998</th>\n",
              "      <td>Android</td>\n",
              "      <td>Samsung Internet</td>\n",
              "      <td>mobile</td>\n",
              "      <td>order</td>\n",
              "    </tr>\n",
              "    <tr>\n",
              "      <th>199999</th>\n",
              "      <td>Mac OS X</td>\n",
              "      <td>Safari</td>\n",
              "      <td>pc</td>\n",
              "      <td>order</td>\n",
              "    </tr>\n",
              "  </tbody>\n",
              "</table>\n",
              "<p>200000 rows × 4 columns</p>\n",
              "</div>\n",
              "      <button class=\"colab-df-convert\" onclick=\"convertToInteractive('df-fd4bf3da-9985-47c0-aeae-23a535769a59')\"\n",
              "              title=\"Convert this dataframe to an interactive table.\"\n",
              "              style=\"display:none;\">\n",
              "        \n",
              "  <svg xmlns=\"http://www.w3.org/2000/svg\" height=\"24px\"viewBox=\"0 0 24 24\"\n",
              "       width=\"24px\">\n",
              "    <path d=\"M0 0h24v24H0V0z\" fill=\"none\"/>\n",
              "    <path d=\"M18.56 5.44l.94 2.06.94-2.06 2.06-.94-2.06-.94-.94-2.06-.94 2.06-2.06.94zm-11 1L8.5 8.5l.94-2.06 2.06-.94-2.06-.94L8.5 2.5l-.94 2.06-2.06.94zm10 10l.94 2.06.94-2.06 2.06-.94-2.06-.94-.94-2.06-.94 2.06-2.06.94z\"/><path d=\"M17.41 7.96l-1.37-1.37c-.4-.4-.92-.59-1.43-.59-.52 0-1.04.2-1.43.59L10.3 9.45l-7.72 7.72c-.78.78-.78 2.05 0 2.83L4 21.41c.39.39.9.59 1.41.59.51 0 1.02-.2 1.41-.59l7.78-7.78 2.81-2.81c.8-.78.8-2.07 0-2.86zM5.41 20L4 18.59l7.72-7.72 1.47 1.35L5.41 20z\"/>\n",
              "  </svg>\n",
              "      </button>\n",
              "      \n",
              "  <style>\n",
              "    .colab-df-container {\n",
              "      display:flex;\n",
              "      flex-wrap:wrap;\n",
              "      gap: 12px;\n",
              "    }\n",
              "\n",
              "    .colab-df-convert {\n",
              "      background-color: #E8F0FE;\n",
              "      border: none;\n",
              "      border-radius: 50%;\n",
              "      cursor: pointer;\n",
              "      display: none;\n",
              "      fill: #1967D2;\n",
              "      height: 32px;\n",
              "      padding: 0 0 0 0;\n",
              "      width: 32px;\n",
              "    }\n",
              "\n",
              "    .colab-df-convert:hover {\n",
              "      background-color: #E2EBFA;\n",
              "      box-shadow: 0px 1px 2px rgba(60, 64, 67, 0.3), 0px 1px 3px 1px rgba(60, 64, 67, 0.15);\n",
              "      fill: #174EA6;\n",
              "    }\n",
              "\n",
              "    [theme=dark] .colab-df-convert {\n",
              "      background-color: #3B4455;\n",
              "      fill: #D2E3FC;\n",
              "    }\n",
              "\n",
              "    [theme=dark] .colab-df-convert:hover {\n",
              "      background-color: #434B5C;\n",
              "      box-shadow: 0px 1px 3px 1px rgba(0, 0, 0, 0.15);\n",
              "      filter: drop-shadow(0px 1px 2px rgba(0, 0, 0, 0.3));\n",
              "      fill: #FFFFFF;\n",
              "    }\n",
              "  </style>\n",
              "\n",
              "      <script>\n",
              "        const buttonEl =\n",
              "          document.querySelector('#df-fd4bf3da-9985-47c0-aeae-23a535769a59 button.colab-df-convert');\n",
              "        buttonEl.style.display =\n",
              "          google.colab.kernel.accessAllowed ? 'block' : 'none';\n",
              "\n",
              "        async function convertToInteractive(key) {\n",
              "          const element = document.querySelector('#df-fd4bf3da-9985-47c0-aeae-23a535769a59');\n",
              "          const dataTable =\n",
              "            await google.colab.kernel.invokeFunction('convertToInteractive',\n",
              "                                                     [key], {});\n",
              "          if (!dataTable) return;\n",
              "\n",
              "          const docLinkHtml = 'Like what you see? Visit the ' +\n",
              "            '<a target=\"_blank\" href=https://colab.research.google.com/notebooks/data_table.ipynb>data table notebook</a>'\n",
              "            + ' to learn more about interactive tables.';\n",
              "          element.innerHTML = '';\n",
              "          dataTable['output_type'] = 'display_data';\n",
              "          await google.colab.output.renderOutput(dataTable, element);\n",
              "          const docLink = document.createElement('div');\n",
              "          docLink.innerHTML = docLinkHtml;\n",
              "          element.appendChild(docLink);\n",
              "        }\n",
              "      </script>\n",
              "    </div>\n",
              "  </div>\n",
              "  "
            ]
          },
          "metadata": {},
          "execution_count": 14
        }
      ]
    },
    {
      "cell_type": "markdown",
      "source": [
        "Пострим на распределение данных"
      ],
      "metadata": {
        "id": "4cxnT51gu5fJ"
      }
    },
    {
      "cell_type": "code",
      "source": [
        "sns.countplot(x = \"target\" , data  = df).set_title('Распределение предсказываемой величены')"
      ],
      "metadata": {
        "colab": {
          "base_uri": "https://localhost:8080/",
          "height": 312
        },
        "id": "205eCTRPu3Au",
        "outputId": "4b170f7f-5dec-4e99-f8b7-5e47e2e7d744"
      },
      "execution_count": 15,
      "outputs": [
        {
          "output_type": "execute_result",
          "data": {
            "text/plain": [
              "Text(0.5, 1.0, 'Распределение предсказываемой величены')"
            ]
          },
          "metadata": {},
          "execution_count": 15
        },
        {
          "output_type": "display_data",
          "data": {
            "text/plain": [
              "<Figure size 432x288 with 1 Axes>"
            ],
            "image/png": "[encoded data removed]"
          },
          "metadata": {
            "needs_background": "light"
          }
        }
      ]
    },
    {
      "cell_type": "code",
      "source": [
        "df[\"age_indicator\"].hist(bins = 40).set_title('Распределение возраста')"
      ],
      "metadata": {
        "colab": {
          "base_uri": "https://localhost:8080/",
          "height": 298
        },
        "id": "0hNUU0Dvu3DC",
        "outputId": "9e96afc5-3c09-436d-fe0f-838b25e87ea8"
      },
      "execution_count": 16,
      "outputs": [
        {
          "output_type": "execute_result",
          "data": {
            "text/plain": [
              "Text(0.5, 1.0, 'Распределение возраста')"
            ]
          },
          "metadata": {},
          "execution_count": 16
        },
        {
          "output_type": "display_data",
          "data": {
            "text/plain": [
              "<Figure size 432x288 with 1 Axes>"
            ],
            "image/png": "[encoded data removed]"
          },
          "metadata": {
            "needs_background": "light"
          }
        }
      ]
    },
    {
      "cell_type": "code",
      "source": [
        "max(df[\"age_indicator\"])"
      ],
      "metadata": {
        "colab": {
          "base_uri": "https://localhost:8080/"
        },
        "id": "uvH50JTDu3Fd",
        "outputId": "5f3b385a-c70e-43a5-97b5-354fee182524"
      },
      "execution_count": 17,
      "outputs": [
        {
          "output_type": "execute_result",
          "data": {
            "text/plain": [
              "40.0"
            ]
          },
          "metadata": {},
          "execution_count": 17
        }
      ]
    },
    {
      "cell_type": "markdown",
      "source": [
        "Взглянем на несколько величин сразу"
      ],
      "metadata": {
        "id": "Q0CkiEzGwusL"
      }
    },
    {
      "cell_type": "code",
      "source": [
        "features = list(set(['age_indicator',\n",
        "       'carts_created_at', 'spent_time_total', 'spent_time_to_complete_hw',\n",
        "       'completed_hw', 'failed_hw', 'reworked_hw', 'interacted_hw',\n",
        "       'avg_hw_mark', 'test_with_good_mark', 'test_with_great_mark',\n",
        "       'webinars', 'avg_quiz_result', 'notes', 'hw_leader', 'lessons',\n",
        "       'activity', 'bought_d1', 'bought_d2', 'bought_d3', 'bought_d4',\n",
        "       'bought_d5', 'bought_avg_duration']))\n",
        "\n",
        "_ = df[features].hist(figsize=(20,12))"
      ],
      "metadata": {
        "colab": {
          "base_uri": "https://localhost:8080/",
          "height": 525
        },
        "id": "NM_Cufl3u3H0",
        "outputId": "830fa804-6095-4fae-a7d1-323e1415fa4a"
      },
      "execution_count": 18,
      "outputs": [
        {
          "output_type": "display_data",
          "data": {
            "text/plain": [
              "<Figure size 1440x864 with 25 Axes>"
            ],
            "image/png": "[encoded data removed]"
          },
          "metadata": {
            "needs_background": "light"
          }
        }
      ]
    },
    {
      "cell_type": "markdown",
      "source": [
        "Обратим внимание на часть столбцов с постоянными значениями"
      ],
      "metadata": {
        "id": "zr-31zZQxUwx"
      }
    },
    {
      "cell_type": "code",
      "source": [
        "df.spent_time_to_complete_hw.value_counts()"
      ],
      "metadata": {
        "colab": {
          "base_uri": "https://localhost:8080/"
        },
        "id": "qw4IcQ2fu3KL",
        "outputId": "1377a5b8-82e4-43c5-b00c-64c3ad2bb2fe"
      },
      "execution_count": 19,
      "outputs": [
        {
          "output_type": "execute_result",
          "data": {
            "text/plain": [
              " 0.0    42466\n",
              "-1.0        1\n",
              "Name: spent_time_to_complete_hw, dtype: int64"
            ]
          },
          "metadata": {},
          "execution_count": 19
        }
      ]
    },
    {
      "cell_type": "code",
      "source": [
        "df.bought_d4.value_counts()"
      ],
      "metadata": {
        "colab": {
          "base_uri": "https://localhost:8080/"
        },
        "id": "m1D4sPQzxS5l",
        "outputId": "091a9395-d657-4818-8c6f-4db23c3048a8"
      },
      "execution_count": 20,
      "outputs": [
        {
          "output_type": "execute_result",
          "data": {
            "text/plain": [
              "0    198694\n",
              "1      1262\n",
              "3        40\n",
              "4         4\n",
              "Name: bought_d4, dtype: int64"
            ]
          },
          "metadata": {},
          "execution_count": 20
        }
      ]
    },
    {
      "cell_type": "code",
      "source": [
        "plt.rcParams['figure.figsize']=(15,15)\n",
        "\n",
        "df_corr = df[[\"target\",'age_indicator',\n",
        "       'carts_created_at', 'spent_time_total',\n",
        "       'completed_hw', 'failed_hw', 'reworked_hw', 'interacted_hw',\n",
        "       'avg_hw_mark', 'test_with_good_mark', 'test_with_great_mark',\n",
        "       'webinars', 'avg_quiz_result', 'notes', 'hw_leader', 'lessons',\n",
        "       'activity', 'bought_d1', 'bought_d2', 'bought_d3',\n",
        "       'bought_d5', 'bought_avg_duration']]\n",
        "\n",
        "g = sns.heatmap(df_corr.corr(), square = True, annot=True)"
      ],
      "metadata": {
        "colab": {
          "base_uri": "https://localhost:8080/",
          "height": 839
        },
        "id": "VnDPAAahyOnw",
        "outputId": "787e1201-8fe0-4b86-f2fb-8d43e79f4f9a"
      },
      "execution_count": 21,
      "outputs": [
        {
          "output_type": "display_data",
          "data": {
            "text/plain": [
              "<Figure size 1080x1080 with 2 Axes>"
            ],
            "image/png": "[encoded data removed]"
          },
          "metadata": {
            "needs_background": "light"
          }
        }
      ]
    },
    {
      "cell_type": "markdown",
      "source": [
        "## Выделим выборки"
      ],
      "metadata": {
        "id": "VLOa56f5zfUg"
      }
    },
    {
      "cell_type": "markdown",
      "source": [
        "Удалим те столбцы, которые не будет обрабатывать, а также столбец 'browser'"
      ],
      "metadata": {
        "id": "845Wf3zJ1dhc"
      }
    },
    {
      "cell_type": "code",
      "source": [
        "new_df = df.drop(['month_id', 'carts_created_at', 'browser'], axis=1)"
      ],
      "metadata": {
        "id": "RjntFGOd_ACO"
      },
      "execution_count": 22,
      "outputs": []
    },
    {
      "cell_type": "code",
      "source": [
        "new_df_test = df_test.drop(['month_id', 'carts_created_at', 'browser'], axis=1)"
      ],
      "metadata": {
        "id": "3UaRg4vUIjrU"
      },
      "execution_count": 23,
      "outputs": []
    },
    {
      "cell_type": "markdown",
      "source": [
        "Заполним оставшиеся значения категориальных переменных:"
      ],
      "metadata": {
        "id": "ICdZCOfwRo6H"
      }
    },
    {
      "cell_type": "code",
      "source": [
        "new_df['promo'].fillna('No', inplace=True)\n",
        "new_df['communication_type'].fillna('No', inplace=True)\n",
        "new_df['ABC'].fillna('No', inplace=True)\n",
        "new_df['city'].fillna('No', inplace=True)\n",
        "new_df['country'].fillna('No', inplace=True)\n",
        "new_df['os'].fillna('No', inplace=True)\n",
        "new_df['platform'].fillna('No', inplace=True)"
      ],
      "metadata": {
        "id": "2gOyQyu0_4ZS"
      },
      "execution_count": 24,
      "outputs": []
    },
    {
      "cell_type": "code",
      "source": [
        "new_df_test['promo'].fillna('No', inplace=True)\n",
        "new_df_test['communication_type'].fillna('No', inplace=True)\n",
        "new_df_test['ABC'].fillna('No', inplace=True)\n",
        "new_df_test['city'].fillna('No', inplace=True)\n",
        "new_df_test['country'].fillna('No', inplace=True)\n",
        "new_df_test['os'].fillna('No', inplace=True)\n",
        "new_df_test['platform'].fillna('No', inplace=True)"
      ],
      "metadata": {
        "id": "sWqRuf5fIsTL"
      },
      "execution_count": 25,
      "outputs": []
    },
    {
      "cell_type": "markdown",
      "source": [
        "Оставшиеся числовые значения заполним '-999', для того, чтобы модель могла интерпретировать их как выбросы:"
      ],
      "metadata": {
        "id": "Yml5QN_0Rv3E"
      }
    },
    {
      "cell_type": "code",
      "source": [
        "new_df.fillna(-999, inplace=True)"
      ],
      "metadata": {
        "id": "m1WP3qsiAn8N"
      },
      "execution_count": 26,
      "outputs": []
    },
    {
      "cell_type": "code",
      "source": [
        "new_df_test.fillna(-999, inplace=True)"
      ],
      "metadata": {
        "id": "-WuS8c1wI0_k"
      },
      "execution_count": 27,
      "outputs": []
    },
    {
      "cell_type": "code",
      "source": [
        "X = new_df.drop(['target'], axis = 1)\n",
        "y = new_df[[\"target\"]]"
      ],
      "metadata": {
        "id": "czsoZexkyyTw"
      },
      "execution_count": 28,
      "outputs": []
    },
    {
      "cell_type": "code",
      "source": [
        "X"
      ],
      "metadata": {
        "colab": {
          "base_uri": "https://localhost:8080/",
          "height": 488
        },
        "id": "5GHjpWM7yUA6",
        "outputId": "3874d842-992f-4618-c591-26c0939b2b50"
      },
      "execution_count": 29,
      "outputs": [
        {
          "output_type": "execute_result",
          "data": {
            "text/plain": [
              "            id  age_indicator  student_id  program_id  spent_time_total  \\\n",
              "0        15182           32.0     6694527        1469             163.0   \n",
              "1        89385           20.0     6712877        1392            -999.0   \n",
              "2        47931           20.0     6659444         376            -999.0   \n",
              "3       279085            1.0     7151591        1160            -999.0   \n",
              "4         7806           30.0     6705666         952            -999.0   \n",
              "...        ...            ...         ...         ...               ...   \n",
              "199995  179932           27.0     6816668        1043            -999.0   \n",
              "199996  257734           20.0     6984939        1635            -999.0   \n",
              "199997   43549           17.0     6670084         789            -999.0   \n",
              "199998  100800           20.0     6917324         476            -999.0   \n",
              "199999  162913           18.0     7057970        1104            -999.0   \n",
              "\n",
              "        spent_time_to_complete_hw  completed_hw  failed_hw  reworked_hw  \\\n",
              "0                             0.0           1.0        0.0         17.0   \n",
              "1                          -999.0        -999.0     -999.0       -999.0   \n",
              "2                          -999.0        -999.0     -999.0       -999.0   \n",
              "3                          -999.0        -999.0     -999.0       -999.0   \n",
              "4                          -999.0        -999.0     -999.0       -999.0   \n",
              "...                           ...           ...        ...          ...   \n",
              "199995                     -999.0        -999.0     -999.0       -999.0   \n",
              "199996                     -999.0        -999.0     -999.0       -999.0   \n",
              "199997                     -999.0           0.0        0.0          0.0   \n",
              "199998                     -999.0        -999.0     -999.0       -999.0   \n",
              "199999                     -999.0        -999.0     -999.0       -999.0   \n",
              "\n",
              "        interacted_hw  ...  p_missed_calls  p_total_calls  \\\n",
              "0                 3.0  ...          -999.0         -999.0   \n",
              "1              -999.0  ...          -999.0         -999.0   \n",
              "2              -999.0  ...          -999.0         -999.0   \n",
              "3              -999.0  ...          -999.0         -999.0   \n",
              "4              -999.0  ...          -999.0         -999.0   \n",
              "...               ...  ...             ...            ...   \n",
              "199995         -999.0  ...          -999.0         -999.0   \n",
              "199996         -999.0  ...          -999.0         -999.0   \n",
              "199997            2.0  ...          -999.0         -999.0   \n",
              "199998         -999.0  ...          -999.0         -999.0   \n",
              "199999         -999.0  ...          -999.0         -999.0   \n",
              "\n",
              "        p_was_conversations  p_total_duration  support_feedback_avg  \\\n",
              "0                    -999.0            -999.0                   4.0   \n",
              "1                    -999.0            -999.0                -999.0   \n",
              "2                    -999.0            -999.0                -999.0   \n",
              "3                    -999.0            -999.0                -999.0   \n",
              "4                    -999.0            -999.0                -999.0   \n",
              "...                     ...               ...                   ...   \n",
              "199995               -999.0            -999.0                   5.0   \n",
              "199996               -999.0            -999.0                -999.0   \n",
              "199997               -999.0            -999.0                   3.0   \n",
              "199998               -999.0            -999.0                -999.0   \n",
              "199999               -999.0            -999.0                -999.0   \n",
              "\n",
              "        feedback_avg_d1  feedback_avg_d2  feedback_avg_d3  feedback_avg_d4  \\\n",
              "0                   5.0           -999.0           -999.0           -999.0   \n",
              "1                -999.0           -999.0           -999.0           -999.0   \n",
              "2                -999.0           -999.0           -999.0           -999.0   \n",
              "3                -999.0           -999.0           -999.0           -999.0   \n",
              "4                   5.0           -999.0           -999.0           -999.0   \n",
              "...                 ...              ...              ...              ...   \n",
              "199995           -999.0           -999.0           -999.0           -999.0   \n",
              "199996              4.5           -999.0           -999.0           -999.0   \n",
              "199997           -999.0           -999.0           -999.0              4.0   \n",
              "199998           -999.0           -999.0           -999.0           -999.0   \n",
              "199999           -999.0           -999.0           -999.0           -999.0   \n",
              "\n",
              "        feedback_avg_d5  \n",
              "0                -999.0  \n",
              "1                -999.0  \n",
              "2                -999.0  \n",
              "3                -999.0  \n",
              "4                -999.0  \n",
              "...                 ...  \n",
              "199995           -999.0  \n",
              "199996           -999.0  \n",
              "199997           -999.0  \n",
              "199998           -999.0  \n",
              "199999           -999.0  \n",
              "\n",
              "[200000 rows x 55 columns]"
            ],
            "text/html": [
              "\n",
              "  <div id=\"df-d3e71e7e-05c9-48b6-b5bd-b6782b81935a\">\n",
              "    <div class=\"colab-df-container\">\n",
              "      <div>\n",
              "<style scoped>\n",
              "    .dataframe tbody tr th:only-of-type {\n",
              "        vertical-align: middle;\n",
              "    }\n",
              "\n",
              "    .dataframe tbody tr th {\n",
              "        vertical-align: top;\n",
              "    }\n",
              "\n",
              "    .dataframe thead th {\n",
              "        text-align: right;\n",
              "    }\n",
              "</style>\n",
              "<table border=\"1\" class=\"dataframe\">\n",
              "  <thead>\n",
              "    <tr style=\"text-align: right;\">\n",
              "      <th></th>\n",
              "      <th>id</th>\n",
              "      <th>age_indicator</th>\n",
              "      <th>student_id</th>\n",
              "      <th>program_id</th>\n",
              "      <th>spent_time_total</th>\n",
              "      <th>spent_time_to_complete_hw</th>\n",
              "      <th>completed_hw</th>\n",
              "      <th>failed_hw</th>\n",
              "      <th>reworked_hw</th>\n",
              "      <th>interacted_hw</th>\n",
              "      <th>...</th>\n",
              "      <th>p_missed_calls</th>\n",
              "      <th>p_total_calls</th>\n",
              "      <th>p_was_conversations</th>\n",
              "      <th>p_total_duration</th>\n",
              "      <th>support_feedback_avg</th>\n",
              "      <th>feedback_avg_d1</th>\n",
              "      <th>feedback_avg_d2</th>\n",
              "      <th>feedback_avg_d3</th>\n",
              "      <th>feedback_avg_d4</th>\n",
              "      <th>feedback_avg_d5</th>\n",
              "    </tr>\n",
              "  </thead>\n",
              "  <tbody>\n",
              "    <tr>\n",
              "      <th>0</th>\n",
              "      <td>15182</td>\n",
              "      <td>32.0</td>\n",
              "      <td>6694527</td>\n",
              "      <td>1469</td>\n",
              "      <td>163.0</td>\n",
              "      <td>0.0</td>\n",
              "      <td>1.0</td>\n",
              "      <td>0.0</td>\n",
              "      <td>17.0</td>\n",
              "      <td>3.0</td>\n",
              "      <td>...</td>\n",
              "      <td>-999.0</td>\n",
              "      <td>-999.0</td>\n",
              "      <td>-999.0</td>\n",
              "      <td>-999.0</td>\n",
              "      <td>4.0</td>\n",
              "      <td>5.0</td>\n",
              "      <td>-999.0</td>\n",
              "      <td>-999.0</td>\n",
              "      <td>-999.0</td>\n",
              "      <td>-999.0</td>\n",
              "    </tr>\n",
              "    <tr>\n",
              "      <th>1</th>\n",
              "      <td>89385</td>\n",
              "      <td>20.0</td>\n",
              "      <td>6712877</td>\n",
              "      <td>1392</td>\n",
              "      <td>-999.0</td>\n",
              "      <td>-999.0</td>\n",
              "      <td>-999.0</td>\n",
              "      <td>-999.0</td>\n",
              "      <td>-999.0</td>\n",
              "      <td>-999.0</td>\n",
              "      <td>...</td>\n",
              "      <td>-999.0</td>\n",
              "      <td>-999.0</td>\n",
              "      <td>-999.0</td>\n",
              "      <td>-999.0</td>\n",
              "      <td>-999.0</td>\n",
              "      <td>-999.0</td>\n",
              "      <td>-999.0</td>\n",
              "      <td>-999.0</td>\n",
              "      <td>-999.0</td>\n",
              "      <td>-999.0</td>\n",
              "    </tr>\n",
              "    <tr>\n",
              "      <th>2</th>\n",
              "      <td>47931</td>\n",
              "      <td>20.0</td>\n",
              "      <td>6659444</td>\n",
              "      <td>376</td>\n",
              "      <td>-999.0</td>\n",
              "      <td>-999.0</td>\n",
              "      <td>-999.0</td>\n",
              "      <td>-999.0</td>\n",
              "      <td>-999.0</td>\n",
              "      <td>-999.0</td>\n",
              "      <td>...</td>\n",
              "      <td>-999.0</td>\n",
              "      <td>-999.0</td>\n",
              "      <td>-999.0</td>\n",
              "      <td>-999.0</td>\n",
              "      <td>-999.0</td>\n",
              "      <td>-999.0</td>\n",
              "      <td>-999.0</td>\n",
              "      <td>-999.0</td>\n",
              "      <td>-999.0</td>\n",
              "      <td>-999.0</td>\n",
              "    </tr>\n",
              "    <tr>\n",
              "      <th>3</th>\n",
              "      <td>279085</td>\n",
              "      <td>1.0</td>\n",
              "      <td>7151591</td>\n",
              "      <td>1160</td>\n",
              "      <td>-999.0</td>\n",
              "      <td>-999.0</td>\n",
              "      <td>-999.0</td>\n",
              "      <td>-999.0</td>\n",
              "      <td>-999.0</td>\n",
              "      <td>-999.0</td>\n",
              "      <td>...</td>\n",
              "      <td>-999.0</td>\n",
              "      <td>-999.0</td>\n",
              "      <td>-999.0</td>\n",
              "      <td>-999.0</td>\n",
              "      <td>-999.0</td>\n",
              "      <td>-999.0</td>\n",
              "      <td>-999.0</td>\n",
              "      <td>-999.0</td>\n",
              "      <td>-999.0</td>\n",
              "      <td>-999.0</td>\n",
              "    </tr>\n",
              "    <tr>\n",
              "      <th>4</th>\n",
              "      <td>7806</td>\n",
              "      <td>30.0</td>\n",
              "      <td>6705666</td>\n",
              "      <td>952</td>\n",
              "      <td>-999.0</td>\n",
              "      <td>-999.0</td>\n",
              "      <td>-999.0</td>\n",
              "      <td>-999.0</td>\n",
              "      <td>-999.0</td>\n",
              "      <td>-999.0</td>\n",
              "      <td>...</td>\n",
              "      <td>-999.0</td>\n",
              "      <td>-999.0</td>\n",
              "      <td>-999.0</td>\n",
              "      <td>-999.0</td>\n",
              "      <td>-999.0</td>\n",
              "      <td>5.0</td>\n",
              "      <td>-999.0</td>\n",
              "      <td>-999.0</td>\n",
              "      <td>-999.0</td>\n",
              "      <td>-999.0</td>\n",
              "    </tr>\n",
              "    <tr>\n",
              "      <th>...</th>\n",
              "      <td>...</td>\n",
              "      <td>...</td>\n",
              "      <td>...</td>\n",
              "      <td>...</td>\n",
              "      <td>...</td>\n",
              "      <td>...</td>\n",
              "      <td>...</td>\n",
              "      <td>...</td>\n",
              "      <td>...</td>\n",
              "      <td>...</td>\n",
              "      <td>...</td>\n",
              "      <td>...</td>\n",
              "      <td>...</td>\n",
              "      <td>...</td>\n",
              "      <td>...</td>\n",
              "      <td>...</td>\n",
              "      <td>...</td>\n",
              "      <td>...</td>\n",
              "      <td>...</td>\n",
              "      <td>...</td>\n",
              "      <td>...</td>\n",
              "    </tr>\n",
              "    <tr>\n",
              "      <th>199995</th>\n",
              "      <td>179932</td>\n",
              "      <td>27.0</td>\n",
              "      <td>6816668</td>\n",
              "      <td>1043</td>\n",
              "      <td>-999.0</td>\n",
              "      <td>-999.0</td>\n",
              "      <td>-999.0</td>\n",
              "      <td>-999.0</td>\n",
              "      <td>-999.0</td>\n",
              "      <td>-999.0</td>\n",
              "      <td>...</td>\n",
              "      <td>-999.0</td>\n",
              "      <td>-999.0</td>\n",
              "      <td>-999.0</td>\n",
              "      <td>-999.0</td>\n",
              "      <td>5.0</td>\n",
              "      <td>-999.0</td>\n",
              "      <td>-999.0</td>\n",
              "      <td>-999.0</td>\n",
              "      <td>-999.0</td>\n",
              "      <td>-999.0</td>\n",
              "    </tr>\n",
              "    <tr>\n",
              "      <th>199996</th>\n",
              "      <td>257734</td>\n",
              "      <td>20.0</td>\n",
              "      <td>6984939</td>\n",
              "      <td>1635</td>\n",
              "      <td>-999.0</td>\n",
              "      <td>-999.0</td>\n",
              "      <td>-999.0</td>\n",
              "      <td>-999.0</td>\n",
              "      <td>-999.0</td>\n",
              "      <td>-999.0</td>\n",
              "      <td>...</td>\n",
              "      <td>-999.0</td>\n",
              "      <td>-999.0</td>\n",
              "      <td>-999.0</td>\n",
              "      <td>-999.0</td>\n",
              "      <td>-999.0</td>\n",
              "      <td>4.5</td>\n",
              "      <td>-999.0</td>\n",
              "      <td>-999.0</td>\n",
              "      <td>-999.0</td>\n",
              "      <td>-999.0</td>\n",
              "    </tr>\n",
              "    <tr>\n",
              "      <th>199997</th>\n",
              "      <td>43549</td>\n",
              "      <td>17.0</td>\n",
              "      <td>6670084</td>\n",
              "      <td>789</td>\n",
              "      <td>-999.0</td>\n",
              "      <td>-999.0</td>\n",
              "      <td>0.0</td>\n",
              "      <td>0.0</td>\n",
              "      <td>0.0</td>\n",
              "      <td>2.0</td>\n",
              "      <td>...</td>\n",
              "      <td>-999.0</td>\n",
              "      <td>-999.0</td>\n",
              "      <td>-999.0</td>\n",
              "      <td>-999.0</td>\n",
              "      <td>3.0</td>\n",
              "      <td>-999.0</td>\n",
              "      <td>-999.0</td>\n",
              "      <td>-999.0</td>\n",
              "      <td>4.0</td>\n",
              "      <td>-999.0</td>\n",
              "    </tr>\n",
              "    <tr>\n",
              "      <th>199998</th>\n",
              "      <td>100800</td>\n",
              "      <td>20.0</td>\n",
              "      <td>6917324</td>\n",
              "      <td>476</td>\n",
              "      <td>-999.0</td>\n",
              "      <td>-999.0</td>\n",
              "      <td>-999.0</td>\n",
              "      <td>-999.0</td>\n",
              "      <td>-999.0</td>\n",
              "      <td>-999.0</td>\n",
              "      <td>...</td>\n",
              "      <td>-999.0</td>\n",
              "      <td>-999.0</td>\n",
              "      <td>-999.0</td>\n",
              "      <td>-999.0</td>\n",
              "      <td>-999.0</td>\n",
              "      <td>-999.0</td>\n",
              "      <td>-999.0</td>\n",
              "      <td>-999.0</td>\n",
              "      <td>-999.0</td>\n",
              "      <td>-999.0</td>\n",
              "    </tr>\n",
              "    <tr>\n",
              "      <th>199999</th>\n",
              "      <td>162913</td>\n",
              "      <td>18.0</td>\n",
              "      <td>7057970</td>\n",
              "      <td>1104</td>\n",
              "      <td>-999.0</td>\n",
              "      <td>-999.0</td>\n",
              "      <td>-999.0</td>\n",
              "      <td>-999.0</td>\n",
              "      <td>-999.0</td>\n",
              "      <td>-999.0</td>\n",
              "      <td>...</td>\n",
              "      <td>-999.0</td>\n",
              "      <td>-999.0</td>\n",
              "      <td>-999.0</td>\n",
              "      <td>-999.0</td>\n",
              "      <td>-999.0</td>\n",
              "      <td>-999.0</td>\n",
              "      <td>-999.0</td>\n",
              "      <td>-999.0</td>\n",
              "      <td>-999.0</td>\n",
              "      <td>-999.0</td>\n",
              "    </tr>\n",
              "  </tbody>\n",
              "</table>\n",
              "<p>200000 rows × 55 columns</p>\n",
              "</div>\n",
              "      <button class=\"colab-df-convert\" onclick=\"convertToInteractive('df-d3e71e7e-05c9-48b6-b5bd-b6782b81935a')\"\n",
              "              title=\"Convert this dataframe to an interactive table.\"\n",
              "              style=\"display:none;\">\n",
              "        \n",
              "  <svg xmlns=\"http://www.w3.org/2000/svg\" height=\"24px\"viewBox=\"0 0 24 24\"\n",
              "       width=\"24px\">\n",
              "    <path d=\"M0 0h24v24H0V0z\" fill=\"none\"/>\n",
              "    <path d=\"M18.56 5.44l.94 2.06.94-2.06 2.06-.94-2.06-.94-.94-2.06-.94 2.06-2.06.94zm-11 1L8.5 8.5l.94-2.06 2.06-.94-2.06-.94L8.5 2.5l-.94 2.06-2.06.94zm10 10l.94 2.06.94-2.06 2.06-.94-2.06-.94-.94-2.06-.94 2.06-2.06.94z\"/><path d=\"M17.41 7.96l-1.37-1.37c-.4-.4-.92-.59-1.43-.59-.52 0-1.04.2-1.43.59L10.3 9.45l-7.72 7.72c-.78.78-.78 2.05 0 2.83L4 21.41c.39.39.9.59 1.41.59.51 0 1.02-.2 1.41-.59l7.78-7.78 2.81-2.81c.8-.78.8-2.07 0-2.86zM5.41 20L4 18.59l7.72-7.72 1.47 1.35L5.41 20z\"/>\n",
              "  </svg>\n",
              "      </button>\n",
              "      \n",
              "  <style>\n",
              "    .colab-df-container {\n",
              "      display:flex;\n",
              "      flex-wrap:wrap;\n",
              "      gap: 12px;\n",
              "    }\n",
              "\n",
              "    .colab-df-convert {\n",
              "      background-color: #E8F0FE;\n",
              "      border: none;\n",
              "      border-radius: 50%;\n",
              "      cursor: pointer;\n",
              "      display: none;\n",
              "      fill: #1967D2;\n",
              "      height: 32px;\n",
              "      padding: 0 0 0 0;\n",
              "      width: 32px;\n",
              "    }\n",
              "\n",
              "    .colab-df-convert:hover {\n",
              "      background-color: #E2EBFA;\n",
              "      box-shadow: 0px 1px 2px rgba(60, 64, 67, 0.3), 0px 1px 3px 1px rgba(60, 64, 67, 0.15);\n",
              "      fill: #174EA6;\n",
              "    }\n",
              "\n",
              "    [theme=dark] .colab-df-convert {\n",
              "      background-color: #3B4455;\n",
              "      fill: #D2E3FC;\n",
              "    }\n",
              "\n",
              "    [theme=dark] .colab-df-convert:hover {\n",
              "      background-color: #434B5C;\n",
              "      box-shadow: 0px 1px 3px 1px rgba(0, 0, 0, 0.15);\n",
              "      filter: drop-shadow(0px 1px 2px rgba(0, 0, 0, 0.3));\n",
              "      fill: #FFFFFF;\n",
              "    }\n",
              "  </style>\n",
              "\n",
              "      <script>\n",
              "        const buttonEl =\n",
              "          document.querySelector('#df-d3e71e7e-05c9-48b6-b5bd-b6782b81935a button.colab-df-convert');\n",
              "        buttonEl.style.display =\n",
              "          google.colab.kernel.accessAllowed ? 'block' : 'none';\n",
              "\n",
              "        async function convertToInteractive(key) {\n",
              "          const element = document.querySelector('#df-d3e71e7e-05c9-48b6-b5bd-b6782b81935a');\n",
              "          const dataTable =\n",
              "            await google.colab.kernel.invokeFunction('convertToInteractive',\n",
              "                                                     [key], {});\n",
              "          if (!dataTable) return;\n",
              "\n",
              "          const docLinkHtml = 'Like what you see? Visit the ' +\n",
              "            '<a target=\"_blank\" href=https://colab.research.google.com/notebooks/data_table.ipynb>data table notebook</a>'\n",
              "            + ' to learn more about interactive tables.';\n",
              "          element.innerHTML = '';\n",
              "          dataTable['output_type'] = 'display_data';\n",
              "          await google.colab.output.renderOutput(dataTable, element);\n",
              "          const docLink = document.createElement('div');\n",
              "          docLink.innerHTML = docLinkHtml;\n",
              "          element.appendChild(docLink);\n",
              "        }\n",
              "      </script>\n",
              "    </div>\n",
              "  </div>\n",
              "  "
            ]
          },
          "metadata": {},
          "execution_count": 29
        }
      ]
    },
    {
      "cell_type": "code",
      "source": [
        "X_real_test = new_df_test"
      ],
      "metadata": {
        "id": "gbGrPjxEq3gU"
      },
      "execution_count": 30,
      "outputs": []
    },
    {
      "cell_type": "code",
      "source": [
        "X.shape"
      ],
      "metadata": {
        "colab": {
          "base_uri": "https://localhost:8080/"
        },
        "id": "BSNwra3e07wI",
        "outputId": "f1e18797-5b24-4109-e2c4-377cc891da6a"
      },
      "execution_count": 31,
      "outputs": [
        {
          "output_type": "execute_result",
          "data": {
            "text/plain": [
              "(200000, 55)"
            ]
          },
          "metadata": {},
          "execution_count": 31
        }
      ]
    },
    {
      "cell_type": "code",
      "source": [
        "X.dtypes"
      ],
      "metadata": {
        "colab": {
          "base_uri": "https://localhost:8080/"
        },
        "id": "ufpuWWorDGOQ",
        "outputId": "89c74608-ee9e-46c8-c1dd-e592aaa37ba1"
      },
      "execution_count": 32,
      "outputs": [
        {
          "output_type": "execute_result",
          "data": {
            "text/plain": [
              "id                             int64\n",
              "age_indicator                float64\n",
              "student_id                     int64\n",
              "program_id                     int64\n",
              "spent_time_total             float64\n",
              "spent_time_to_complete_hw    float64\n",
              "completed_hw                 float64\n",
              "failed_hw                    float64\n",
              "reworked_hw                  float64\n",
              "interacted_hw                float64\n",
              "avg_hw_mark                  float64\n",
              "test_with_good_mark          float64\n",
              "test_with_great_mark         float64\n",
              "webinars                     float64\n",
              "avg_quiz_result              float64\n",
              "notes                        float64\n",
              "hw_leader                    float64\n",
              "lessons                      float64\n",
              "activity                     float64\n",
              "bought_d1                      int64\n",
              "bought_d2                      int64\n",
              "bought_d3                      int64\n",
              "bought_d4                      int64\n",
              "bought_d5                      int64\n",
              "bought_avg_duration          float64\n",
              "payment_type                   int64\n",
              "promo                         object\n",
              "price                        float64\n",
              "communication_type            object\n",
              "auto_payment                   int64\n",
              "ABC                           object\n",
              "city                          object\n",
              "country                       object\n",
              "gender                       float64\n",
              "speed_recall                 float64\n",
              "os                            object\n",
              "platform                      object\n",
              "m_avg_talk_duration          float64\n",
              "m_avg_duration               float64\n",
              "m_missed_calls               float64\n",
              "m_total_calls                float64\n",
              "m_was_conversations          float64\n",
              "m_total_duration             float64\n",
              "p_avg_talk_duration          float64\n",
              "p_avg_duration               float64\n",
              "p_missed_calls               float64\n",
              "p_total_calls                float64\n",
              "p_was_conversations          float64\n",
              "p_total_duration             float64\n",
              "support_feedback_avg         float64\n",
              "feedback_avg_d1              float64\n",
              "feedback_avg_d2              float64\n",
              "feedback_avg_d3              float64\n",
              "feedback_avg_d4              float64\n",
              "feedback_avg_d5              float64\n",
              "dtype: object"
            ]
          },
          "metadata": {},
          "execution_count": 32
        }
      ]
    },
    {
      "cell_type": "markdown",
      "source": [
        "Выделим индексы категориальных переменных:"
      ],
      "metadata": {
        "id": "fQaWsUwrSBLU"
      }
    },
    {
      "cell_type": "code",
      "source": [
        "categorical_features_indices = np.where(X.dtypes == object)[0]"
      ],
      "metadata": {
        "id": "G5EJHZBGC_2y"
      },
      "execution_count": 33,
      "outputs": []
    },
    {
      "cell_type": "code",
      "source": [
        "categorical_features_indices"
      ],
      "metadata": {
        "colab": {
          "base_uri": "https://localhost:8080/"
        },
        "id": "SJC_8eOJDPnT",
        "outputId": "3d9b9530-1805-4344-f6ad-58b0b3be92e1"
      },
      "execution_count": 34,
      "outputs": [
        {
          "output_type": "execute_result",
          "data": {
            "text/plain": [
              "array([26, 28, 30, 31, 32, 35, 36])"
            ]
          },
          "metadata": {},
          "execution_count": 34
        }
      ]
    },
    {
      "cell_type": "markdown",
      "source": [
        "## Обучение модели"
      ],
      "metadata": {
        "id": "X_HOvpXy2e3S"
      }
    },
    {
      "cell_type": "markdown",
      "source": [
        "Будем использовать градиентный бустинг в реализации Яндекса. Так как бустинг довольно устойчив к переобучению, для тренировки модели будем использовать весь датасет. Гиперпараметры были подобраны заранее."
      ],
      "metadata": {
        "id": "g0sDj_A7SzUW"
      }
    },
    {
      "cell_type": "code",
      "source": [
        "!pip install catboost\n",
        "from catboost import CatBoostClassifier, Pool, metrics, cv"
      ],
      "metadata": {
        "colab": {
          "base_uri": "https://localhost:8080/"
        },
        "id": "jJWwoDF3SIeO",
        "outputId": "5556065d-fb91-4da5-d0ac-7ac10a367bdf"
      },
      "execution_count": 35,
      "outputs": [
        {
          "output_type": "stream",
          "name": "stdout",
          "text": [
            "Looking in indexes: https://pypi.org/simple, https://us-python.pkg.dev/colab-wheels/public/simple/\n",
            "Collecting catboost\n",
            "  Downloading catboost-1.0.6-cp37-none-manylinux1_x86_64.whl (76.6 MB)\n",
            "\u001b[K     |████████████████████████████████| 76.6 MB 1.2 MB/s \n",
            "\u001b[?25hRequirement already satisfied: scipy in /usr/local/lib/python3.7/dist-packages (from catboost) (1.7.3)\n",
            "Requirement already satisfied: matplotlib in /usr/local/lib/python3.7/dist-packages (from catboost) (3.2.2)\n",
            "Requirement already satisfied: numpy>=1.16.0 in /usr/local/lib/python3.7/dist-packages (from catboost) (1.21.6)\n",
            "Requirement already satisfied: plotly in /usr/local/lib/python3.7/dist-packages (from catboost) (5.5.0)\n",
            "Requirement already satisfied: graphviz in /usr/local/lib/python3.7/dist-packages (from catboost) (0.10.1)\n",
            "Requirement already satisfied: six in /usr/local/lib/python3.7/dist-packages (from catboost) (1.15.0)\n",
            "Requirement already satisfied: pandas>=0.24.0 in /usr/local/lib/python3.7/dist-packages (from catboost) (1.3.5)\n",
            "Requirement already satisfied: python-dateutil>=2.7.3 in /usr/local/lib/python3.7/dist-packages (from pandas>=0.24.0->catboost) (2.8.2)\n",
            "Requirement already satisfied: pytz>=2017.3 in /usr/local/lib/python3.7/dist-packages (from pandas>=0.24.0->catboost) (2022.1)\n",
            "Requirement already satisfied: pyparsing!=2.0.4,!=2.1.2,!=2.1.6,>=2.0.1 in /usr/local/lib/python3.7/dist-packages (from matplotlib->catboost) (3.0.9)\n",
            "Requirement already satisfied: kiwisolver>=1.0.1 in /usr/local/lib/python3.7/dist-packages (from matplotlib->catboost) (1.4.4)\n",
            "Requirement already satisfied: cycler>=0.10 in /usr/local/lib/python3.7/dist-packages (from matplotlib->catboost) (0.11.0)\n",
            "Requirement already satisfied: typing-extensions in /usr/local/lib/python3.7/dist-packages (from kiwisolver>=1.0.1->matplotlib->catboost) (4.1.1)\n",
            "Requirement already satisfied: tenacity>=6.2.0 in /usr/local/lib/python3.7/dist-packages (from plotly->catboost) (8.0.1)\n",
            "Installing collected packages: catboost\n",
            "Successfully installed catboost-1.0.6\n"
          ]
        }
      ]
    },
    {
      "cell_type": "code",
      "source": [
        "model=CatBoostClassifier(\n",
        "                         iterations=17000,\n",
        "                         learning_rate=0.1,\n",
        "                         cat_features=categorical_features_indices,\n",
        "                         max_depth=10,\n",
        "                         verbose=100,\n",
        "                         random_seed=42,\n",
        "                         loss_function='MultiClass',\n",
        "                         early_stopping_rounds=500,\n",
        "                         task_type='GPU'\n",
        "                        )"
      ],
      "metadata": {
        "id": "wmIAen3YSp7b"
      },
      "execution_count": 36,
      "outputs": []
    },
    {
      "cell_type": "markdown",
      "source": [
        "Обучим модель:"
      ],
      "metadata": {
        "id": "zLOKWEvhTL_u"
      }
    },
    {
      "cell_type": "code",
      "source": [
        "model.fit(X, y)"
      ],
      "metadata": {
        "colab": {
          "base_uri": "https://localhost:8080/"
        },
        "id": "-JFi5YXHTLVR",
        "outputId": "53f2b33c-f48f-4c0e-8630-eed64136d69c"
      },
      "execution_count": 37,
      "outputs": [
        {
          "output_type": "stream",
          "name": "stdout",
          "text": [
            "0:\tlearn: 1.4505553\ttotal: 164ms\tremaining: 46m 27s\n",
            "100:\tlearn: 0.3700877\ttotal: 18.4s\tremaining: 51m 10s\n",
            "200:\tlearn: 0.3142617\ttotal: 24.7s\tremaining: 34m 22s\n",
            "300:\tlearn: 0.2743092\ttotal: 31s\tremaining: 28m 41s\n",
            "400:\tlearn: 0.2474719\ttotal: 37.3s\tremaining: 25m 43s\n",
            "500:\tlearn: 0.2218549\ttotal: 43.6s\tremaining: 23m 57s\n",
            "600:\tlearn: 0.1996183\ttotal: 50.1s\tremaining: 22m 45s\n",
            "700:\tlearn: 0.1815492\ttotal: 56.4s\tremaining: 21m 50s\n",
            "800:\tlearn: 0.1656591\ttotal: 1m 2s\tremaining: 21m 7s\n",
            "900:\tlearn: 0.1518260\ttotal: 1m 9s\tremaining: 20m 35s\n",
            "1000:\tlearn: 0.1396293\ttotal: 1m 15s\tremaining: 20m 6s\n",
            "1100:\tlearn: 0.1292656\ttotal: 1m 21s\tremaining: 19m 43s\n",
            "1200:\tlearn: 0.1197643\ttotal: 1m 29s\tremaining: 19m 36s\n",
            "1300:\tlearn: 0.1111258\ttotal: 1m 35s\tremaining: 19m 15s\n",
            "1400:\tlearn: 0.1043086\ttotal: 1m 42s\tremaining: 18m 56s\n",
            "1500:\tlearn: 0.0969823\ttotal: 1m 48s\tremaining: 18m 39s\n",
            "1600:\tlearn: 0.0913923\ttotal: 1m 54s\tremaining: 18m 23s\n",
            "1700:\tlearn: 0.0854902\ttotal: 2m 1s\tremaining: 18m 9s\n",
            "1800:\tlearn: 0.0804187\ttotal: 2m 7s\tremaining: 17m 54s\n",
            "1900:\tlearn: 0.0759207\ttotal: 2m 13s\tremaining: 17m 41s\n",
            "2000:\tlearn: 0.0714433\ttotal: 2m 19s\tremaining: 17m 29s\n",
            "2100:\tlearn: 0.0673395\ttotal: 2m 26s\tremaining: 17m 19s\n",
            "2200:\tlearn: 0.0634224\ttotal: 2m 32s\tremaining: 17m 8s\n",
            "2300:\tlearn: 0.0601711\ttotal: 2m 39s\tremaining: 16m 57s\n",
            "2400:\tlearn: 0.0573467\ttotal: 2m 45s\tremaining: 16m 46s\n",
            "2500:\tlearn: 0.0548143\ttotal: 2m 51s\tremaining: 16m 36s\n",
            "2600:\tlearn: 0.0524922\ttotal: 2m 58s\tremaining: 16m 26s\n",
            "2700:\tlearn: 0.0500884\ttotal: 3m 4s\tremaining: 16m 17s\n",
            "2800:\tlearn: 0.0479931\ttotal: 3m 11s\tremaining: 16m 8s\n",
            "2900:\tlearn: 0.0460402\ttotal: 3m 17s\tremaining: 16m\n",
            "3000:\tlearn: 0.0440380\ttotal: 3m 24s\tremaining: 15m 51s\n",
            "3100:\tlearn: 0.0421437\ttotal: 3m 30s\tremaining: 15m 42s\n",
            "3200:\tlearn: 0.0404255\ttotal: 3m 36s\tremaining: 15m 34s\n",
            "3300:\tlearn: 0.0389068\ttotal: 3m 42s\tremaining: 15m 25s\n",
            "3400:\tlearn: 0.0374474\ttotal: 3m 49s\tremaining: 15m 16s\n",
            "3500:\tlearn: 0.0361350\ttotal: 3m 55s\tremaining: 15m 8s\n",
            "3600:\tlearn: 0.0348353\ttotal: 4m 1s\tremaining: 15m\n",
            "3700:\tlearn: 0.0336236\ttotal: 4m 8s\tremaining: 14m 52s\n",
            "3800:\tlearn: 0.0325434\ttotal: 4m 14s\tremaining: 14m 43s\n",
            "3900:\tlearn: 0.0314939\ttotal: 4m 20s\tremaining: 14m 35s\n",
            "4000:\tlearn: 0.0304595\ttotal: 4m 27s\tremaining: 14m 27s\n",
            "4100:\tlearn: 0.0294828\ttotal: 4m 33s\tremaining: 14m 20s\n",
            "4200:\tlearn: 0.0284124\ttotal: 4m 39s\tremaining: 14m 12s\n",
            "4300:\tlearn: 0.0275668\ttotal: 4m 46s\tremaining: 14m 5s\n",
            "4400:\tlearn: 0.0266979\ttotal: 4m 52s\tremaining: 13m 57s\n",
            "4500:\tlearn: 0.0259022\ttotal: 4m 58s\tremaining: 13m 50s\n",
            "4600:\tlearn: 0.0251353\ttotal: 5m 5s\tremaining: 13m 42s\n",
            "4700:\tlearn: 0.0244602\ttotal: 5m 11s\tremaining: 13m 35s\n",
            "4800:\tlearn: 0.0237184\ttotal: 5m 18s\tremaining: 13m 28s\n",
            "4900:\tlearn: 0.0230702\ttotal: 5m 24s\tremaining: 13m 20s\n",
            "5000:\tlearn: 0.0224441\ttotal: 5m 30s\tremaining: 13m 13s\n",
            "5100:\tlearn: 0.0218272\ttotal: 5m 36s\tremaining: 13m 6s\n",
            "5200:\tlearn: 0.0212246\ttotal: 5m 43s\tremaining: 12m 58s\n",
            "5300:\tlearn: 0.0206655\ttotal: 5m 49s\tremaining: 12m 51s\n",
            "5400:\tlearn: 0.0201366\ttotal: 5m 55s\tremaining: 12m 44s\n",
            "5500:\tlearn: 0.0196031\ttotal: 6m 2s\tremaining: 12m 36s\n",
            "5600:\tlearn: 0.0190895\ttotal: 6m 8s\tremaining: 12m 29s\n",
            "5700:\tlearn: 0.0185937\ttotal: 6m 14s\tremaining: 12m 22s\n",
            "5800:\tlearn: 0.0181376\ttotal: 6m 21s\tremaining: 12m 15s\n",
            "5900:\tlearn: 0.0176983\ttotal: 6m 27s\tremaining: 12m 8s\n",
            "6000:\tlearn: 0.0173162\ttotal: 6m 33s\tremaining: 12m 1s\n",
            "6100:\tlearn: 0.0169190\ttotal: 6m 40s\tremaining: 11m 54s\n",
            "6200:\tlearn: 0.0165335\ttotal: 6m 46s\tremaining: 11m 47s\n",
            "6300:\tlearn: 0.0161512\ttotal: 6m 52s\tremaining: 11m 40s\n",
            "6400:\tlearn: 0.0158168\ttotal: 6m 59s\tremaining: 11m 33s\n",
            "6500:\tlearn: 0.0154576\ttotal: 7m 5s\tremaining: 11m 27s\n",
            "6600:\tlearn: 0.0151260\ttotal: 7m 11s\tremaining: 11m 20s\n",
            "6700:\tlearn: 0.0147862\ttotal: 7m 18s\tremaining: 11m 13s\n",
            "6800:\tlearn: 0.0144977\ttotal: 7m 24s\tremaining: 11m 6s\n",
            "6900:\tlearn: 0.0142003\ttotal: 7m 30s\tremaining: 10m 59s\n",
            "7000:\tlearn: 0.0139021\ttotal: 7m 36s\tremaining: 10m 52s\n",
            "7100:\tlearn: 0.0136164\ttotal: 7m 42s\tremaining: 10m 45s\n",
            "7200:\tlearn: 0.0133702\ttotal: 7m 49s\tremaining: 10m 38s\n",
            "7300:\tlearn: 0.0131030\ttotal: 7m 55s\tremaining: 10m 31s\n",
            "7400:\tlearn: 0.0128629\ttotal: 8m 1s\tremaining: 10m 24s\n",
            "7500:\tlearn: 0.0126574\ttotal: 8m 7s\tremaining: 10m 17s\n",
            "7600:\tlearn: 0.0124347\ttotal: 8m 13s\tremaining: 10m 10s\n",
            "7700:\tlearn: 0.0121836\ttotal: 8m 20s\tremaining: 10m 4s\n",
            "7800:\tlearn: 0.0119634\ttotal: 8m 26s\tremaining: 9m 57s\n",
            "7900:\tlearn: 0.0117607\ttotal: 8m 32s\tremaining: 9m 50s\n",
            "8000:\tlearn: 0.0115389\ttotal: 8m 39s\tremaining: 9m 43s\n",
            "8100:\tlearn: 0.0113358\ttotal: 8m 45s\tremaining: 9m 37s\n",
            "8200:\tlearn: 0.0111288\ttotal: 8m 51s\tremaining: 9m 30s\n",
            "8300:\tlearn: 0.0109565\ttotal: 8m 58s\tremaining: 9m 23s\n",
            "8400:\tlearn: 0.0107573\ttotal: 9m 4s\tremaining: 9m 17s\n",
            "8500:\tlearn: 0.0105901\ttotal: 9m 10s\tremaining: 9m 10s\n",
            "8600:\tlearn: 0.0104244\ttotal: 9m 17s\tremaining: 9m 3s\n",
            "8700:\tlearn: 0.0102508\ttotal: 9m 23s\tremaining: 8m 57s\n",
            "8800:\tlearn: 0.0100812\ttotal: 9m 29s\tremaining: 8m 50s\n",
            "8900:\tlearn: 0.0099203\ttotal: 9m 35s\tremaining: 8m 43s\n",
            "9000:\tlearn: 0.0097672\ttotal: 9m 41s\tremaining: 8m 36s\n",
            "9100:\tlearn: 0.0096031\ttotal: 9m 47s\tremaining: 8m 30s\n",
            "9200:\tlearn: 0.0094629\ttotal: 9m 54s\tremaining: 8m 23s\n",
            "9300:\tlearn: 0.0093133\ttotal: 10m\tremaining: 8m 16s\n",
            "9400:\tlearn: 0.0091689\ttotal: 10m 6s\tremaining: 8m 10s\n",
            "9500:\tlearn: 0.0090227\ttotal: 10m 12s\tremaining: 8m 3s\n",
            "9600:\tlearn: 0.0088967\ttotal: 10m 19s\tremaining: 7m 57s\n",
            "9700:\tlearn: 0.0087753\ttotal: 10m 25s\tremaining: 7m 50s\n",
            "9800:\tlearn: 0.0086375\ttotal: 10m 31s\tremaining: 7m 44s\n",
            "9900:\tlearn: 0.0085040\ttotal: 10m 38s\tremaining: 7m 37s\n",
            "10000:\tlearn: 0.0083718\ttotal: 10m 44s\tremaining: 7m 30s\n",
            "10100:\tlearn: 0.0082475\ttotal: 10m 50s\tremaining: 7m 24s\n",
            "10200:\tlearn: 0.0081317\ttotal: 10m 56s\tremaining: 7m 17s\n",
            "10300:\tlearn: 0.0080228\ttotal: 11m 3s\tremaining: 7m 11s\n",
            "10400:\tlearn: 0.0079153\ttotal: 11m 9s\tremaining: 7m 4s\n",
            "10500:\tlearn: 0.0078037\ttotal: 11m 15s\tremaining: 6m 58s\n",
            "10600:\tlearn: 0.0077047\ttotal: 11m 21s\tremaining: 6m 51s\n",
            "10700:\tlearn: 0.0076182\ttotal: 11m 27s\tremaining: 6m 44s\n",
            "10800:\tlearn: 0.0075154\ttotal: 11m 34s\tremaining: 6m 38s\n",
            "10900:\tlearn: 0.0074226\ttotal: 11m 40s\tremaining: 6m 31s\n",
            "11000:\tlearn: 0.0073280\ttotal: 11m 46s\tremaining: 6m 25s\n",
            "11100:\tlearn: 0.0072381\ttotal: 11m 53s\tremaining: 6m 19s\n",
            "11200:\tlearn: 0.0071588\ttotal: 11m 59s\tremaining: 6m 12s\n",
            "11300:\tlearn: 0.0070665\ttotal: 12m 5s\tremaining: 6m 6s\n",
            "11400:\tlearn: 0.0069754\ttotal: 12m 12s\tremaining: 5m 59s\n",
            "11500:\tlearn: 0.0068945\ttotal: 12m 18s\tremaining: 5m 52s\n",
            "11600:\tlearn: 0.0068131\ttotal: 12m 24s\tremaining: 5m 46s\n",
            "11700:\tlearn: 0.0067366\ttotal: 12m 30s\tremaining: 5m 39s\n",
            "11800:\tlearn: 0.0066524\ttotal: 12m 36s\tremaining: 5m 33s\n",
            "11900:\tlearn: 0.0065706\ttotal: 12m 43s\tremaining: 5m 27s\n",
            "12000:\tlearn: 0.0064959\ttotal: 12m 49s\tremaining: 5m 20s\n",
            "12100:\tlearn: 0.0064258\ttotal: 12m 55s\tremaining: 5m 14s\n",
            "12200:\tlearn: 0.0063485\ttotal: 13m 2s\tremaining: 5m 7s\n",
            "12300:\tlearn: 0.0062767\ttotal: 13m 8s\tremaining: 5m 1s\n",
            "12400:\tlearn: 0.0062023\ttotal: 13m 14s\tremaining: 4m 54s\n",
            "12500:\tlearn: 0.0061395\ttotal: 13m 20s\tremaining: 4m 48s\n",
            "12600:\tlearn: 0.0060666\ttotal: 13m 27s\tremaining: 4m 41s\n",
            "12700:\tlearn: 0.0059911\ttotal: 13m 33s\tremaining: 4m 35s\n",
            "12800:\tlearn: 0.0059296\ttotal: 13m 39s\tremaining: 4m 28s\n",
            "12900:\tlearn: 0.0058644\ttotal: 13m 45s\tremaining: 4m 22s\n",
            "13000:\tlearn: 0.0058032\ttotal: 13m 52s\tremaining: 4m 15s\n",
            "13100:\tlearn: 0.0057448\ttotal: 13m 59s\tremaining: 4m 9s\n",
            "13200:\tlearn: 0.0056809\ttotal: 14m 5s\tremaining: 4m 3s\n",
            "13300:\tlearn: 0.0056266\ttotal: 14m 11s\tremaining: 3m 56s\n",
            "13400:\tlearn: 0.0055684\ttotal: 14m 17s\tremaining: 3m 50s\n",
            "13500:\tlearn: 0.0055083\ttotal: 14m 24s\tremaining: 3m 43s\n",
            "13600:\tlearn: 0.0054583\ttotal: 14m 30s\tremaining: 3m 37s\n",
            "13700:\tlearn: 0.0054072\ttotal: 14m 36s\tremaining: 3m 31s\n",
            "13800:\tlearn: 0.0053542\ttotal: 14m 42s\tremaining: 3m 24s\n",
            "13900:\tlearn: 0.0053069\ttotal: 14m 48s\tremaining: 3m 18s\n",
            "14000:\tlearn: 0.0052591\ttotal: 14m 55s\tremaining: 3m 11s\n",
            "14100:\tlearn: 0.0052145\ttotal: 15m 1s\tremaining: 3m 5s\n",
            "14200:\tlearn: 0.0051620\ttotal: 15m 7s\tremaining: 2m 58s\n",
            "14300:\tlearn: 0.0051159\ttotal: 15m 13s\tremaining: 2m 52s\n",
            "14400:\tlearn: 0.0050704\ttotal: 15m 19s\tremaining: 2m 46s\n",
            "14500:\tlearn: 0.0050235\ttotal: 15m 26s\tremaining: 2m 39s\n",
            "14600:\tlearn: 0.0049780\ttotal: 15m 32s\tremaining: 2m 33s\n",
            "14700:\tlearn: 0.0049342\ttotal: 15m 38s\tremaining: 2m 26s\n",
            "14800:\tlearn: 0.0048950\ttotal: 15m 44s\tremaining: 2m 20s\n",
            "14900:\tlearn: 0.0048528\ttotal: 15m 51s\tremaining: 2m 14s\n",
            "15000:\tlearn: 0.0048085\ttotal: 15m 58s\tremaining: 2m 7s\n",
            "15100:\tlearn: 0.0047684\ttotal: 16m 4s\tremaining: 2m 1s\n",
            "15200:\tlearn: 0.0047282\ttotal: 16m 10s\tremaining: 1m 54s\n",
            "15300:\tlearn: 0.0046910\ttotal: 16m 16s\tremaining: 1m 48s\n",
            "15400:\tlearn: 0.0046462\ttotal: 16m 23s\tremaining: 1m 42s\n",
            "15500:\tlearn: 0.0046081\ttotal: 16m 29s\tremaining: 1m 35s\n",
            "15600:\tlearn: 0.0045722\ttotal: 16m 35s\tremaining: 1m 29s\n",
            "15700:\tlearn: 0.0045310\ttotal: 16m 41s\tremaining: 1m 22s\n",
            "15800:\tlearn: 0.0044936\ttotal: 16m 47s\tremaining: 1m 16s\n",
            "15900:\tlearn: 0.0044554\ttotal: 16m 54s\tremaining: 1m 10s\n",
            "16000:\tlearn: 0.0044185\ttotal: 17m\tremaining: 1m 3s\n",
            "16100:\tlearn: 0.0043795\ttotal: 17m 6s\tremaining: 57.3s\n",
            "16200:\tlearn: 0.0043478\ttotal: 17m 12s\tremaining: 50.9s\n",
            "16300:\tlearn: 0.0043161\ttotal: 17m 19s\tremaining: 44.6s\n",
            "16400:\tlearn: 0.0042819\ttotal: 17m 26s\tremaining: 38.2s\n",
            "16500:\tlearn: 0.0042468\ttotal: 17m 32s\tremaining: 31.8s\n",
            "16600:\tlearn: 0.0042174\ttotal: 17m 38s\tremaining: 25.4s\n",
            "16700:\tlearn: 0.0041876\ttotal: 17m 45s\tremaining: 19.1s\n",
            "16800:\tlearn: 0.0041554\ttotal: 17m 51s\tremaining: 12.7s\n",
            "16900:\tlearn: 0.0041283\ttotal: 17m 58s\tremaining: 6.31s\n",
            "16999:\tlearn: 0.0040990\ttotal: 18m 4s\tremaining: 0us\n"
          ]
        },
        {
          "output_type": "execute_result",
          "data": {
            "text/plain": [
              "<catboost.core.CatBoostClassifier at 0x7f99bc789950>"
            ]
          },
          "metadata": {},
          "execution_count": 37
        }
      ]
    },
    {
      "cell_type": "markdown",
      "source": [
        "## Загрузка результата:"
      ],
      "metadata": {
        "id": "aqxTaUVm2iiP"
      }
    },
    {
      "cell_type": "code",
      "source": [
        "y_pred_cat = model.predict(X_real_test)\n",
        "y_pred_cat_true = []\n",
        "for i in y_pred_cat:\n",
        "  y_pred_cat_true.append(i[0])\n",
        "output=pd.DataFrame(data={\"id\":new_df_test[\"id\"],\"target\":y_pred_cat_true})\n",
        "output.to_csv('output_final.csv', na_rep = '0', index=False) "
      ],
      "metadata": {
        "id": "zpO_8fezPGHD"
      },
      "execution_count": 38,
      "outputs": []
    },
    {
      "cell_type": "code",
      "source": [
        ""
      ],
      "metadata": {
        "id": "o1pl4a8UQVNH"
      },
      "execution_count": null,
      "outputs": []
    }
  ]
}